{
 "cells": [
  {
   "cell_type": "markdown",
   "id": "f1983fe1",
   "metadata": {},
   "source": [
    "# Loop Function\n",
    "\n",
    "- Pada proses pelatihan model, model akan dilatih melalui iterasi berkali-kali dengan tujuan agar loss yang dihasilkan pada proses training berkurang.\n",
    "- Proses iterasi ini disebut **training loop**.\n",
    "- Jumlah iterasi ini juga biasa disebut **epoch**. **Epoch** merupakan salah satu hyperparameter.\n",
    "- Jumlah **epoch** telah ditentukan sebelumnya."
   ]
  },
  {
   "cell_type": "markdown",
   "id": "63a375bb",
   "metadata": {},
   "source": [
    "# Loop Function in Pytorch"
   ]
  },
  {
   "cell_type": "markdown",
   "id": "ec701a13",
   "metadata": {},
   "source": [
    "## Import Modules"
   ]
  },
  {
   "cell_type": "code",
   "execution_count": 1,
   "id": "9297c889",
   "metadata": {
    "ExecuteTime": {
     "end_time": "2022-03-14T11:47:07.745618Z",
     "start_time": "2022-03-14T11:47:06.377763Z"
    }
   },
   "outputs": [
    {
     "name": "stderr",
     "output_type": "stream",
     "text": [
      "C:\\Users\\62821\\.conda\\envs\\dl_with_me\\lib\\site-packages\\tqdm\\auto.py:22: TqdmWarning: IProgress not found. Please update jupyter and ipywidgets. See https://ipywidgets.readthedocs.io/en/stable/user_install.html\n",
      "  from .autonotebook import tqdm as notebook_tqdm\n"
     ]
    }
   ],
   "source": [
    "import torch\n",
    "\n",
    "from torch import nn, optim\n",
    "from torch.utils.data import DataLoader, TensorDataset\n",
    "from torchmetrics.functional import r2_score"
   ]
  },
  {
   "cell_type": "markdown",
   "id": "6e606ef8",
   "metadata": {},
   "source": [
    "## Dataset\n",
    "\n",
    "- Dataset yang digunakan adalah kumpulan bilangan yang dibuat menggunakan random generator.\n",
    "- Variabel X (fitur) berukuran 50 baris dan 4 kolom dan variabel y (target) berukuran 50 baris dan 1 kolom."
   ]
  },
  {
   "cell_type": "code",
   "execution_count": 2,
   "id": "129b4684",
   "metadata": {
    "ExecuteTime": {
     "end_time": "2022-03-14T11:47:07.785801Z",
     "start_time": "2022-03-14T11:47:07.746642Z"
    }
   },
   "outputs": [
    {
     "name": "stdout",
     "output_type": "stream",
     "text": [
      "X:\n",
      "tensor([[0.8823, 0.9150, 0.3829, 0.9593],\n",
      "        [0.3904, 0.6009, 0.2566, 0.7936],\n",
      "        [0.9408, 0.1332, 0.9346, 0.5936],\n",
      "        [0.8694, 0.5677, 0.7411, 0.4294],\n",
      "        [0.8854, 0.5739, 0.2666, 0.6274],\n",
      "        [0.2696, 0.4414, 0.2969, 0.8317],\n",
      "        [0.1053, 0.2695, 0.3588, 0.1994],\n",
      "        [0.5472, 0.0062, 0.9516, 0.0753],\n",
      "        [0.8860, 0.5832, 0.3376, 0.8090],\n",
      "        [0.5779, 0.9040, 0.5547, 0.3423],\n",
      "        [0.6343, 0.3644, 0.7104, 0.9464],\n",
      "        [0.7890, 0.2814, 0.7886, 0.5895],\n",
      "        [0.7539, 0.1952, 0.0050, 0.3068],\n",
      "        [0.1165, 0.9103, 0.6440, 0.7071],\n",
      "        [0.6581, 0.4913, 0.8913, 0.1447],\n",
      "        [0.5315, 0.1587, 0.6542, 0.3278],\n",
      "        [0.6532, 0.3958, 0.9147, 0.2036],\n",
      "        [0.2018, 0.2018, 0.9497, 0.6666],\n",
      "        [0.9811, 0.0874, 0.0041, 0.1088],\n",
      "        [0.1637, 0.7025, 0.6790, 0.9155]])\n",
      "\n",
      "y:\n",
      "tensor([[0.2418],\n",
      "        [0.1591],\n",
      "        [0.7653],\n",
      "        [0.2979],\n",
      "        [0.8035],\n",
      "        [0.3813],\n",
      "        [0.7860],\n",
      "        [0.1115],\n",
      "        [0.2477],\n",
      "        [0.6524],\n",
      "        [0.6057],\n",
      "        [0.3725],\n",
      "        [0.7980],\n",
      "        [0.8399],\n",
      "        [0.1374],\n",
      "        [0.2331],\n",
      "        [0.9578],\n",
      "        [0.3313],\n",
      "        [0.3227],\n",
      "        [0.0162]])\n"
     ]
    }
   ],
   "source": [
    "torch.manual_seed(42)\n",
    "\n",
    "X = torch.rand(size=(20, 4))\n",
    "y = torch.rand(size=(20, 1))\n",
    "\n",
    "print(f\"X:\\n{X}\\n\")\n",
    "print(f\"y:\\n{y}\")"
   ]
  },
  {
   "cell_type": "markdown",
   "id": "c27152f1",
   "metadata": {},
   "source": [
    "## Tensor Dataset\n",
    "\n",
    "- Variabel X dan y digabungkan dengan menggunakan modul `TensorDataset`.\n",
    "- Hal ini dilakukan untuk mempermudah mengambil nilai dari variabel X dan y pada saat proses pelatihan model."
   ]
  },
  {
   "cell_type": "code",
   "execution_count": 3,
   "id": "3909dbcc",
   "metadata": {
    "ExecuteTime": {
     "end_time": "2022-03-14T11:47:07.806062Z",
     "start_time": "2022-03-14T11:47:07.786839Z"
    }
   },
   "outputs": [
    {
     "data": {
      "text/plain": [
       "(tensor([[0.8823, 0.9150, 0.3829, 0.9593],\n",
       "         [0.3904, 0.6009, 0.2566, 0.7936],\n",
       "         [0.9408, 0.1332, 0.9346, 0.5936],\n",
       "         [0.8694, 0.5677, 0.7411, 0.4294],\n",
       "         [0.8854, 0.5739, 0.2666, 0.6274],\n",
       "         [0.2696, 0.4414, 0.2969, 0.8317],\n",
       "         [0.1053, 0.2695, 0.3588, 0.1994],\n",
       "         [0.5472, 0.0062, 0.9516, 0.0753],\n",
       "         [0.8860, 0.5832, 0.3376, 0.8090],\n",
       "         [0.5779, 0.9040, 0.5547, 0.3423],\n",
       "         [0.6343, 0.3644, 0.7104, 0.9464],\n",
       "         [0.7890, 0.2814, 0.7886, 0.5895],\n",
       "         [0.7539, 0.1952, 0.0050, 0.3068],\n",
       "         [0.1165, 0.9103, 0.6440, 0.7071],\n",
       "         [0.6581, 0.4913, 0.8913, 0.1447],\n",
       "         [0.5315, 0.1587, 0.6542, 0.3278],\n",
       "         [0.6532, 0.3958, 0.9147, 0.2036],\n",
       "         [0.2018, 0.2018, 0.9497, 0.6666],\n",
       "         [0.9811, 0.0874, 0.0041, 0.1088],\n",
       "         [0.1637, 0.7025, 0.6790, 0.9155]]),\n",
       " tensor([[0.2418],\n",
       "         [0.1591],\n",
       "         [0.7653],\n",
       "         [0.2979],\n",
       "         [0.8035],\n",
       "         [0.3813],\n",
       "         [0.7860],\n",
       "         [0.1115],\n",
       "         [0.2477],\n",
       "         [0.6524],\n",
       "         [0.6057],\n",
       "         [0.3725],\n",
       "         [0.7980],\n",
       "         [0.8399],\n",
       "         [0.1374],\n",
       "         [0.2331],\n",
       "         [0.9578],\n",
       "         [0.3313],\n",
       "         [0.3227],\n",
       "         [0.0162]]))"
      ]
     },
     "execution_count": 3,
     "metadata": {},
     "output_type": "execute_result"
    }
   ],
   "source": [
    "tensor_dataset = TensorDataset(X, y)\n",
    "\n",
    "tensor_dataset.tensors"
   ]
  },
  {
   "cell_type": "markdown",
   "id": "28961a04",
   "metadata": {},
   "source": [
    "## DataLoader\n",
    "\n",
    "- `DataLoader` digunakan untuk menerapkan **batching** dan **shuffle** pada dataset."
   ]
  },
  {
   "cell_type": "code",
   "execution_count": 4,
   "id": "01db9689",
   "metadata": {
    "ExecuteTime": {
     "end_time": "2022-03-14T11:47:07.825636Z",
     "start_time": "2022-03-14T11:47:07.809635Z"
    }
   },
   "outputs": [
    {
     "data": {
      "text/plain": [
       "[tensor([[0.5315, 0.1587, 0.6542, 0.3278],\n",
       "         [0.9408, 0.1332, 0.9346, 0.5936],\n",
       "         [0.8860, 0.5832, 0.3376, 0.8090],\n",
       "         [0.7890, 0.2814, 0.7886, 0.5895],\n",
       "         [0.6532, 0.3958, 0.9147, 0.2036]]),\n",
       " tensor([[0.2331],\n",
       "         [0.7653],\n",
       "         [0.2477],\n",
       "         [0.3725],\n",
       "         [0.9578]])]"
      ]
     },
     "execution_count": 4,
     "metadata": {},
     "output_type": "execute_result"
    }
   ],
   "source": [
    "dataloader = DataLoader(tensor_dataset, batch_size=5, shuffle=True)\n",
    "next(iter(dataloader))"
   ]
  },
  {
   "cell_type": "markdown",
   "id": "ba2736af",
   "metadata": {},
   "source": [
    "## Model"
   ]
  },
  {
   "cell_type": "code",
   "execution_count": 5,
   "id": "2a922d45",
   "metadata": {
    "ExecuteTime": {
     "end_time": "2022-03-14T11:47:07.846090Z",
     "start_time": "2022-03-14T11:47:07.826658Z"
    }
   },
   "outputs": [
    {
     "data": {
      "text/plain": [
       "Sequential(\n",
       "  (0): Linear(in_features=4, out_features=2, bias=True)\n",
       "  (1): ReLU()\n",
       "  (2): Linear(in_features=2, out_features=1, bias=True)\n",
       "  (3): Sigmoid()\n",
       ")"
      ]
     },
     "execution_count": 5,
     "metadata": {},
     "output_type": "execute_result"
    }
   ],
   "source": [
    "model = nn.Sequential(\n",
    "            # layer 1 (4 neurons) to layer 2 (2 neurons) with ReLU\n",
    "            nn.Linear(4, 2),\n",
    "            nn.ReLU(),\n",
    "            \n",
    "            # layer 2 (2 neurons) to layer 3 (1 neurons) with Sigmoid\n",
    "            nn.Linear(2, 1),\n",
    "            nn.Sigmoid(),\n",
    "        )\n",
    "\n",
    "model"
   ]
  },
  {
   "cell_type": "markdown",
   "id": "c31c876d",
   "metadata": {},
   "source": [
    "## Loss Function"
   ]
  },
  {
   "cell_type": "code",
   "execution_count": 6,
   "id": "06bc0d3e",
   "metadata": {
    "ExecuteTime": {
     "end_time": "2022-03-14T11:47:07.865823Z",
     "start_time": "2022-03-14T11:47:07.846612Z"
    }
   },
   "outputs": [
    {
     "data": {
      "text/plain": [
       "MSELoss()"
      ]
     },
     "execution_count": 6,
     "metadata": {},
     "output_type": "execute_result"
    }
   ],
   "source": [
    "mse_loss = nn.MSELoss()\n",
    "\n",
    "mse_loss"
   ]
  },
  {
   "cell_type": "markdown",
   "id": "0a8e958a",
   "metadata": {},
   "source": [
    "## Optimizer"
   ]
  },
  {
   "cell_type": "code",
   "execution_count": 7,
   "id": "1546eef8",
   "metadata": {
    "ExecuteTime": {
     "end_time": "2022-03-14T11:47:07.886091Z",
     "start_time": "2022-03-14T11:47:07.866847Z"
    }
   },
   "outputs": [
    {
     "data": {
      "text/plain": [
       "SGD (\n",
       "Parameter Group 0\n",
       "    dampening: 0\n",
       "    lr: 1\n",
       "    maximize: False\n",
       "    momentum: 0\n",
       "    nesterov: False\n",
       "    weight_decay: 0\n",
       ")"
      ]
     },
     "execution_count": 7,
     "metadata": {},
     "output_type": "execute_result"
    }
   ],
   "source": [
    "sgd_optimizer = optim.SGD(model.parameters(), lr=1)\n",
    "\n",
    "sgd_optimizer"
   ]
  },
  {
   "cell_type": "markdown",
   "id": "42383eca",
   "metadata": {},
   "source": [
    "## Loop Function"
   ]
  },
  {
   "cell_type": "code",
   "execution_count": 8,
   "id": "33c76a2e",
   "metadata": {
    "ExecuteTime": {
     "end_time": "2022-03-14T11:47:07.945753Z",
     "start_time": "2022-03-14T11:47:07.886627Z"
    }
   },
   "outputs": [
    {
     "name": "stdout",
     "output_type": "stream",
     "text": [
      "Epoch 1\n",
      "batch 1: [  5/ 20] | r2-score: -0.001476 | loss: 0.132229\n",
      "batch 2: [ 10/ 20] | r2-score: -1.386093 | loss: 0.064782\n",
      "batch 3: [ 15/ 20] | r2-score: 0.003590 | loss: 0.085312\n",
      "batch 4: [ 20/ 20] | r2-score: -0.079285 | loss: 0.058576\n",
      "R2 score  : -0.36581578850746155\n",
      "RMSE loss : 0.29193296597424057\n",
      "------------------------------------------------------------\n",
      "\n",
      "Epoch 2\n",
      "batch 1: [  5/ 20] | r2-score: -0.054929 | loss: 0.083434\n",
      "batch 2: [ 10/ 20] | r2-score: -0.190645 | loss: 0.067922\n",
      "batch 3: [ 15/ 20] | r2-score: -6.483576 | loss: 0.088354\n",
      "batch 4: [ 20/ 20] | r2-score: -0.109595 | loss: 0.099401\n",
      "R2 score  : -1.7096863985061646\n",
      "RMSE loss : 0.2911661673964669\n",
      "------------------------------------------------------------\n",
      "\n",
      "Epoch 3\n",
      "batch 1: [  5/ 20] | r2-score: -0.013475 | loss: 0.122823\n",
      "batch 2: [ 10/ 20] | r2-score: -10.520777 | loss: 0.056351\n",
      "batch 3: [ 15/ 20] | r2-score: -0.025636 | loss: 0.097660\n",
      "batch 4: [ 20/ 20] | r2-score: -0.095159 | loss: 0.054186\n",
      "R2 score  : -2.663761556148529\n",
      "RMSE loss : 0.28767174347765767\n",
      "------------------------------------------------------------\n",
      "\n",
      "Epoch 4\n",
      "batch 1: [  5/ 20] | r2-score: -0.002321 | loss: 0.049332\n",
      "batch 2: [ 10/ 20] | r2-score: 0.005378 | loss: 0.084691\n",
      "batch 3: [ 15/ 20] | r2-score: -0.025633 | loss: 0.091470\n",
      "batch 4: [ 20/ 20] | r2-score: -0.000026 | loss: 0.097875\n",
      "R2 score  : -0.0056505948305130005\n",
      "RMSE loss : 0.28432714104098256\n",
      "------------------------------------------------------------\n",
      "\n",
      "Epoch 5\n",
      "batch 1: [  5/ 20] | r2-score: -0.013735 | loss: 0.077137\n",
      "batch 2: [ 10/ 20] | r2-score: -0.019611 | loss: 0.055721\n",
      "batch 3: [ 15/ 20] | r2-score: -0.078884 | loss: 0.095430\n",
      "batch 4: [ 20/ 20] | r2-score: -0.006040 | loss: 0.095250\n",
      "R2 score  : -0.029567569494247437\n",
      "RMSE loss : 0.28440222596743164\n",
      "------------------------------------------------------------\n",
      "\n",
      "Done!\n"
     ]
    }
   ],
   "source": [
    "def loop_fn(dataloader, model, loss_fn, optimizer):\n",
    "    size = len(dataloader.dataset)\n",
    "    loss_batches = []\n",
    "    r2_score_batches = []\n",
    "    \n",
    "    for batch, (X, y) in enumerate(dataloader):\n",
    "        # Forward Propagation\n",
    "        pred = model(X)\n",
    "        loss = loss_fn(pred, y)\n",
    "        r_square = r2_score(pred, y)\n",
    "        \n",
    "        # Backpropagation\n",
    "        optimizer.zero_grad()\n",
    "        loss.backward()\n",
    "        optimizer.step()\n",
    "        \n",
    "        # Calculate loss each batch\n",
    "        loss = loss.item()\n",
    "        loss_batches.append(loss)\n",
    "        \n",
    "        # Calculate r-square each batch\n",
    "        r_square = r_square.item()\n",
    "        r2_score_batches.append(r_square)\n",
    "        \n",
    "        current_batch = (batch + 1) * len(X)\n",
    "        \n",
    "        # Show Log\n",
    "        print(f\"batch {batch + 1}: [{current_batch:>3d}/{size:>3d}] | r2-score: {r_square:>8f} | loss: {loss:>7f}\")\n",
    "    print(f\"R2 score  : {sum(r2_score_batches) / len(r2_score_batches)}\")\n",
    "    print(f\"RMSE loss : {(sum(loss_batches) / len(loss_batches))**0.5}\")\n",
    "    \n",
    "# Run Loop Function\n",
    "epochs = 5\n",
    "\n",
    "for epoch in range(epochs):\n",
    "    print(f\"Epoch {epoch + 1}\")\n",
    "    loop_fn(dataloader, model, mse_loss, sgd_optimizer)\n",
    "    print(\"-\" * 60, end=\"\\n\\n\")\n",
    "print(\"Done!\")"
   ]
  },
  {
   "cell_type": "code",
   "execution_count": null,
   "id": "5c600fff",
   "metadata": {},
   "outputs": [],
   "source": []
  }
 ],
 "metadata": {
  "kernelspec": {
   "display_name": "Python 3 (ipykernel)",
   "language": "python",
   "name": "python3"
  },
  "language_info": {
   "codemirror_mode": {
    "name": "ipython",
    "version": 3
   },
   "file_extension": ".py",
   "mimetype": "text/x-python",
   "name": "python",
   "nbconvert_exporter": "python",
   "pygments_lexer": "ipython3",
   "version": "3.9.7"
  },
  "nbTranslate": {
   "displayLangs": [
    "*"
   ],
   "hotkey": "alt-t",
   "langInMainMenu": true,
   "sourceLang": "en",
   "targetLang": "fr",
   "useGoogleTranslate": true
  },
  "toc": {
   "base_numbering": 1,
   "nav_menu": {},
   "number_sections": true,
   "sideBar": true,
   "skip_h1_title": false,
   "title_cell": "Table of Contents",
   "title_sidebar": "Contents",
   "toc_cell": false,
   "toc_position": {},
   "toc_section_display": true,
   "toc_window_display": false
  }
 },
 "nbformat": 4,
 "nbformat_minor": 5
}
