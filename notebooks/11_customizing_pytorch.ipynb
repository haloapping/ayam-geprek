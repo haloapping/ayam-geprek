{
 "cells": [
  {
   "cell_type": "markdown",
   "id": "b980218e",
   "metadata": {},
   "source": [
    "# Import Modules"
   ]
  },
  {
   "cell_type": "code",
   "execution_count": 1,
   "id": "c72f5d0c",
   "metadata": {
    "ExecuteTime": {
     "end_time": "2022-05-21T04:00:40.694456Z",
     "start_time": "2022-05-21T04:00:39.914305Z"
    }
   },
   "outputs": [],
   "source": [
    "import torch\n",
    "from torch import nn\n",
    "from torch.nn import init"
   ]
  },
  {
   "cell_type": "markdown",
   "id": "5ebe02b7",
   "metadata": {},
   "source": [
    "# Custom Weight and Bias"
   ]
  },
  {
   "cell_type": "code",
   "execution_count": 2,
   "id": "87e990e7",
   "metadata": {
    "ExecuteTime": {
     "end_time": "2022-05-21T04:00:40.732223Z",
     "start_time": "2022-05-21T04:00:40.694456Z"
    }
   },
   "outputs": [
    {
     "data": {
      "text/plain": [
       "Model(\n",
       "  (features): Sequential(\n",
       "    (0): Linear(in_features=2, out_features=4, bias=True)\n",
       "    (1): Linear(in_features=4, out_features=8, bias=True)\n",
       "  )\n",
       "  (regressor): Sequential(\n",
       "    (0): Linear(in_features=8, out_features=1, bias=True)\n",
       "  )\n",
       ")"
      ]
     },
     "execution_count": 2,
     "metadata": {},
     "output_type": "execute_result"
    }
   ],
   "source": [
    "class Model(nn.Module):\n",
    "    def __init__(self, init_weight_bias=False):\n",
    "        super(Model, self).__init__()\n",
    "        \n",
    "        self.features = nn.Sequential(\n",
    "            nn.Linear(2, 4),\n",
    "            nn.Linear(4, 8),\n",
    "        )\n",
    "        \n",
    "        self.regressor = nn.Sequential(\n",
    "            nn.Linear(8, 1)\n",
    "        )\n",
    "        \n",
    "        if init_weight_bias:\n",
    "            self.init_weight_bias(\"features\")\n",
    "            self.init_weight_bias(\"regressor\")\n",
    "\n",
    "    def init_weight_bias(self, layer_name):\n",
    "        for layer in self.get_submodule(layer_name):\n",
    "            layer.weight = nn.parameter.Parameter(\n",
    "                init.kaiming_normal_(\n",
    "                    tensor=torch.empty(layer.weight.shape),\n",
    "                    a=0,\n",
    "                    mode=\"fan_in\",\n",
    "                    nonlinearity=\"leaky_relu\"\n",
    "                )\n",
    "            )\n",
    "            \n",
    "            layer.bias = nn.parameter.Parameter(\n",
    "                init.kaiming_normal_(\n",
    "                    tensor=torch.empty(layer.bias.shape[0], 1),\n",
    "                    a=0,\n",
    "                    mode=\"fan_in\",\n",
    "                    nonlinearity=\"leaky_relu\"\n",
    "                ).flatten()\n",
    "            )\n",
    "        \n",
    "    def forward(self, X):\n",
    "        X = self.features(X)\n",
    "        X = self.regressor(X)\n",
    "        \n",
    "        return X\n",
    "\n",
    "Model()"
   ]
  },
  {
   "cell_type": "markdown",
   "id": "49b4ec88",
   "metadata": {},
   "source": [
    "# Without Init Weight Bias"
   ]
  },
  {
   "cell_type": "code",
   "execution_count": 3,
   "id": "19df7049",
   "metadata": {
    "ExecuteTime": {
     "end_time": "2022-05-21T04:00:40.763404Z",
     "start_time": "2022-05-21T04:00:40.732223Z"
    }
   },
   "outputs": [
    {
     "data": {
      "text/plain": [
       "OrderedDict([('features.0.weight',\n",
       "              tensor([[ 0.5406,  0.5869],\n",
       "                      [-0.1657,  0.6496],\n",
       "                      [-0.1549,  0.1427],\n",
       "                      [-0.3443,  0.4153]])),\n",
       "             ('features.0.bias', tensor([ 0.6233, -0.5188,  0.6146,  0.1323])),\n",
       "             ('features.1.weight',\n",
       "              tensor([[ 0.3694,  0.0677,  0.2411, -0.0706],\n",
       "                      [ 0.3854,  0.0739, -0.2334,  0.1274],\n",
       "                      [-0.2304, -0.0586, -0.2031,  0.3317],\n",
       "                      [-0.3947, -0.2305, -0.1412, -0.3006],\n",
       "                      [ 0.0472, -0.4938,  0.4516, -0.4247],\n",
       "                      [ 0.3860,  0.0832, -0.1624,  0.3090],\n",
       "                      [ 0.0779,  0.4040,  0.0547, -0.1577],\n",
       "                      [ 0.1343, -0.1356,  0.2104,  0.4464]])),\n",
       "             ('features.1.bias',\n",
       "              tensor([ 0.2890, -0.2186,  0.2886,  0.0895,  0.2539, -0.3048, -0.4950, -0.1932])),\n",
       "             ('regressor.0.weight',\n",
       "              tensor([[-0.2712,  0.2901,  0.1018,  0.1464,  0.1118, -0.0062,  0.2767, -0.2512]])),\n",
       "             ('regressor.0.bias', tensor([0.0223]))])"
      ]
     },
     "execution_count": 3,
     "metadata": {},
     "output_type": "execute_result"
    }
   ],
   "source": [
    "torch.manual_seed(42)\n",
    "\n",
    "model_without_init_weight_bias = Model(init_weight_bias=False)\n",
    "model_without_init_weight_bias.state_dict()"
   ]
  },
  {
   "cell_type": "code",
   "execution_count": 4,
   "id": "22c0f58e",
   "metadata": {
    "ExecuteTime": {
     "end_time": "2022-05-21T04:00:40.778993Z",
     "start_time": "2022-05-21T04:00:40.763404Z"
    }
   },
   "outputs": [
    {
     "data": {
      "text/plain": [
       "-9.79812240600586"
      ]
     },
     "execution_count": 4,
     "metadata": {},
     "output_type": "execute_result"
    }
   ],
   "source": [
    "torch.manual_seed(42)\n",
    "\n",
    "X = torch.randint(low=1, high=100, size=(2, ), dtype=torch.float32)\n",
    "model_without_init_weight_bias(X).item()"
   ]
  },
  {
   "cell_type": "markdown",
   "id": "173186e3",
   "metadata": {},
   "source": [
    "# With Init Weight Bias"
   ]
  },
  {
   "cell_type": "code",
   "execution_count": 5,
   "id": "8f90224c",
   "metadata": {
    "ExecuteTime": {
     "end_time": "2022-05-21T04:00:40.794616Z",
     "start_time": "2022-05-21T04:00:40.778993Z"
    },
    "run_control": {
     "marked": false
    }
   },
   "outputs": [
    {
     "data": {
      "text/plain": [
       "OrderedDict([('features.0.weight',\n",
       "              tensor([[-0.1735,  1.3850],\n",
       "                      [ 0.7045,  1.2197],\n",
       "                      [-0.6778, -0.5920],\n",
       "                      [-0.6382, -1.9187]])),\n",
       "             ('features.0.bias', tensor([-0.9109, -0.8571, -0.2015,  1.3755])),\n",
       "             ('features.1.weight',\n",
       "              tensor([[ 3.7096e-01,  8.0695e-01,  3.6518e-02,  5.1485e-01],\n",
       "                      [-5.0250e-01, -4.2573e-01,  6.7914e-01,  2.8625e-01],\n",
       "                      [-5.8532e-01,  9.4378e-01,  3.4191e-01, -1.3970e-01],\n",
       "                      [ 8.9683e-01,  8.6568e-01,  6.9379e-02,  1.2320e+00],\n",
       "                      [ 4.1242e-01,  7.5443e-01, -3.1831e-01, -4.7995e-01],\n",
       "                      [ 4.0610e-01,  1.3276e-01, -2.5288e-01, -2.2381e-01],\n",
       "                      [ 9.0027e-01, -9.2692e-04, -2.1468e-01, -6.9752e-01],\n",
       "                      [ 8.7186e-02,  2.4739e-01,  4.3648e-01, -1.1974e-01]])),\n",
       "             ('features.1.bias',\n",
       "              tensor([-1.9137,  0.2379, -1.1661, -0.0850, -1.3645, -2.3540,  0.2894,  1.0235])),\n",
       "             ('regressor.0.weight',\n",
       "              tensor([[ 0.0638, -0.5570,  0.2570,  0.0380, -0.0370, -0.1777,  0.1846, -0.3100]])),\n",
       "             ('regressor.0.bias', tensor([0.5410]))])"
      ]
     },
     "execution_count": 5,
     "metadata": {},
     "output_type": "execute_result"
    }
   ],
   "source": [
    "torch.manual_seed(42)\n",
    "\n",
    "model_with_init_weight_bias = Model(init_weight_bias=True)\n",
    "model_with_init_weight_bias.state_dict()"
   ]
  },
  {
   "cell_type": "code",
   "execution_count": 6,
   "id": "ac9786d6",
   "metadata": {
    "ExecuteTime": {
     "end_time": "2022-05-21T04:00:40.810243Z",
     "start_time": "2022-05-21T04:00:40.794616Z"
    }
   },
   "outputs": [
    {
     "data": {
      "text/plain": [
       "137.23822021484375"
      ]
     },
     "execution_count": 6,
     "metadata": {},
     "output_type": "execute_result"
    }
   ],
   "source": [
    "torch.manual_seed(42)\n",
    "\n",
    "X = torch.randint(low=1, high=100, size=(2, ), dtype=torch.float32)\n",
    "model_with_init_weight_bias(X).item()"
   ]
  }
 ],
 "metadata": {
  "kernelspec": {
   "display_name": "Python 3 (ipykernel)",
   "language": "python",
   "name": "python3"
  },
  "language_info": {
   "codemirror_mode": {
    "name": "ipython",
    "version": 3
   },
   "file_extension": ".py",
   "mimetype": "text/x-python",
   "name": "python",
   "nbconvert_exporter": "python",
   "pygments_lexer": "ipython3",
   "version": "3.9.12"
  },
  "nbTranslate": {
   "displayLangs": [
    "*"
   ],
   "hotkey": "alt-t",
   "langInMainMenu": true,
   "sourceLang": "en",
   "targetLang": "fr",
   "useGoogleTranslate": true
  },
  "toc": {
   "base_numbering": 1,
   "nav_menu": {},
   "number_sections": true,
   "sideBar": true,
   "skip_h1_title": false,
   "title_cell": "Table of Contents",
   "title_sidebar": "Contents",
   "toc_cell": false,
   "toc_position": {},
   "toc_section_display": true,
   "toc_window_display": false
  }
 },
 "nbformat": 4,
 "nbformat_minor": 5
}
