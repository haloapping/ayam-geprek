{
 "cells": [
  {
   "cell_type": "markdown",
   "id": "b980218e",
   "metadata": {},
   "source": [
    "# Import Modules"
   ]
  },
  {
   "cell_type": "code",
   "execution_count": 1,
   "id": "c72f5d0c",
   "metadata": {
    "ExecuteTime": {
     "end_time": "2022-03-17T03:26:08.908005Z",
     "start_time": "2022-03-17T03:26:05.555180Z"
    }
   },
   "outputs": [
    {
     "name": "stderr",
     "output_type": "stream",
     "text": [
      "C:\\Users\\62821\\.conda\\envs\\dl_with_me\\lib\\site-packages\\tqdm\\auto.py:22: TqdmWarning: IProgress not found. Please update jupyter and ipywidgets. See https://ipywidgets.readthedocs.io/en/stable/user_install.html\n",
      "  from .autonotebook import tqdm as notebook_tqdm\n"
     ]
    }
   ],
   "source": [
    "import torch\n",
    "from torch import nn\n",
    "from torch.nn import init"
   ]
  },
  {
   "cell_type": "markdown",
   "id": "5ebe02b7",
   "metadata": {},
   "source": [
    "# Custom Weight and Bias"
   ]
  },
  {
   "cell_type": "code",
   "execution_count": 2,
   "id": "87e990e7",
   "metadata": {
    "ExecuteTime": {
     "end_time": "2022-03-17T03:26:09.022146Z",
     "start_time": "2022-03-17T03:26:08.918579Z"
    }
   },
   "outputs": [
    {
     "data": {
      "text/plain": [
       "Model(\n",
       "  (features): Sequential(\n",
       "    (0): Linear(in_features=2, out_features=4, bias=True)\n",
       "    (1): Linear(in_features=4, out_features=8, bias=True)\n",
       "  )\n",
       "  (regressor): Sequential(\n",
       "    (0): Linear(in_features=8, out_features=1, bias=True)\n",
       "  )\n",
       ")"
      ]
     },
     "execution_count": 2,
     "metadata": {},
     "output_type": "execute_result"
    }
   ],
   "source": [
    "class Model(nn.Module):\n",
    "    def __init__(self, init_weight_bias=False):\n",
    "        super(Model, self).__init__()\n",
    "        \n",
    "        self.features = nn.Sequential(\n",
    "            nn.Linear(2, 4),\n",
    "            nn.Linear(4, 8),\n",
    "        )\n",
    "        \n",
    "        self.regressor = nn.Sequential(\n",
    "            nn.Linear(8, 1)\n",
    "        )\n",
    "        \n",
    "        if init_weight_bias:\n",
    "            self.init_weight_bias()\n",
    "\n",
    "    def init_weight_bias(self):\n",
    "        for layer in self.get_submodule(\"features\"):\n",
    "            layer.weight = nn.parameter.Parameter(\n",
    "                init.kaiming_normal_(\n",
    "                    tensor=torch.empty(layer.weight.shape),\n",
    "                    a=0,\n",
    "                    mode=\"fan_in\",\n",
    "                    nonlinearity=\"leaky_relu\"\n",
    "                )\n",
    "            )\n",
    "            \n",
    "            layer.bias = nn.parameter.Parameter(\n",
    "                init.kaiming_normal_(\n",
    "                    tensor=torch.empty(layer.bias.shape[0], 1),\n",
    "                    a=0,\n",
    "                    mode=\"fan_in\",\n",
    "                    nonlinearity=\"leaky_relu\"\n",
    "                ).flatten()\n",
    "            )\n",
    "            \n",
    "        for layer in self.get_submodule(\"regressor\"):\n",
    "            layer.weight = nn.parameter.Parameter(\n",
    "                init.kaiming_normal_(\n",
    "                    tensor=torch.empty(layer.weight.shape),\n",
    "                    a=0,\n",
    "                    mode=\"fan_in\",\n",
    "                    nonlinearity=\"leaky_relu\"\n",
    "                )\n",
    "            )\n",
    "            \n",
    "            layer.bias = nn.parameter.Parameter(\n",
    "                init.kaiming_normal_(\n",
    "                    tensor=torch.empty(layer.bias.shape[0], 1),\n",
    "                    a=0,\n",
    "                    mode=\"fan_in\",\n",
    "                    nonlinearity=\"leaky_relu\"\n",
    "                ).flatten()\n",
    "            )\n",
    "        \n",
    "    def forward(self, X):\n",
    "        X = self.features(X)\n",
    "        X = self.regressor(X)\n",
    "        \n",
    "        return X\n",
    "\n",
    "Model()"
   ]
  },
  {
   "cell_type": "markdown",
   "id": "49b4ec88",
   "metadata": {},
   "source": [
    "# Without Init Weight Bias"
   ]
  },
  {
   "cell_type": "code",
   "execution_count": 3,
   "id": "19df7049",
   "metadata": {
    "ExecuteTime": {
     "end_time": "2022-03-17T03:26:09.078535Z",
     "start_time": "2022-03-17T03:26:09.032368Z"
    }
   },
   "outputs": [
    {
     "data": {
      "text/plain": [
       "OrderedDict([('features.0.weight',\n",
       "              tensor([[-0.1543, -0.3934],\n",
       "                      [ 0.2480, -0.1861],\n",
       "                      [ 0.6934, -0.4746],\n",
       "                      [ 0.1439,  0.3509]])),\n",
       "             ('features.0.bias', tensor([-0.3414,  0.5008, -0.0406, -0.4307])),\n",
       "             ('features.1.weight',\n",
       "              tensor([[ 0.0737, -0.3186,  0.3577, -0.0697],\n",
       "                      [ 0.3686, -0.3904, -0.3349, -0.2428],\n",
       "                      [-0.0981,  0.2275, -0.3821, -0.1596],\n",
       "                      [-0.1840,  0.1613,  0.3970, -0.2375],\n",
       "                      [-0.4849,  0.3978, -0.2229,  0.0538],\n",
       "                      [-0.3657,  0.1577, -0.4224, -0.4594],\n",
       "                      [ 0.2261, -0.2111,  0.1444, -0.1431],\n",
       "                      [ 0.0707, -0.3296, -0.1776,  0.2904]])),\n",
       "             ('features.1.bias',\n",
       "              tensor([ 0.0435,  0.4030,  0.1115,  0.3327,  0.1933,  0.0435, -0.0812,  0.4018])),\n",
       "             ('regressor.0.weight',\n",
       "              tensor([[-0.1586, -0.3005,  0.2306, -0.2841, -0.1611,  0.2621, -0.1204,  0.1083]])),\n",
       "             ('regressor.0.bias', tensor([-0.2721]))])"
      ]
     },
     "execution_count": 3,
     "metadata": {},
     "output_type": "execute_result"
    }
   ],
   "source": [
    "model_without_init_weight_bias = Model(init_weight_bias=False)\n",
    "model_without_init_weight_bias.state_dict()"
   ]
  },
  {
   "cell_type": "code",
   "execution_count": 4,
   "id": "22c0f58e",
   "metadata": {
    "ExecuteTime": {
     "end_time": "2022-03-17T03:26:09.122951Z",
     "start_time": "2022-03-17T03:26:09.091304Z"
    }
   },
   "outputs": [
    {
     "data": {
      "text/plain": [
       "-5.4122209548950195"
      ]
     },
     "execution_count": 4,
     "metadata": {},
     "output_type": "execute_result"
    }
   ],
   "source": [
    "X = torch.randint(low=1, high=100, size=(2, ), dtype=torch.float32)\n",
    "model_without_init_weight_bias(X).item()"
   ]
  },
  {
   "cell_type": "markdown",
   "id": "173186e3",
   "metadata": {},
   "source": [
    "# With Init Weight Bias"
   ]
  },
  {
   "cell_type": "code",
   "execution_count": 5,
   "id": "8f90224c",
   "metadata": {
    "ExecuteTime": {
     "end_time": "2022-03-17T03:26:09.193317Z",
     "start_time": "2022-03-17T03:26:09.136423Z"
    },
    "run_control": {
     "marked": false
    }
   },
   "outputs": [
    {
     "data": {
      "text/plain": [
       "OrderedDict([('features.0.weight',\n",
       "              tensor([[-0.8373, -0.6031],\n",
       "                      [-0.5011, -0.0018],\n",
       "                      [-0.0609, -0.7094],\n",
       "                      [ 0.9570,  0.3440]])),\n",
       "             ('features.0.bias', tensor([-2.6650, -0.5723,  0.1846, -1.7616])),\n",
       "             ('features.1.weight',\n",
       "              tensor([[ 0.1436, -0.2205, -0.8100, -1.1376],\n",
       "                      [ 0.7415, -0.7468, -0.0129,  0.6369],\n",
       "                      [ 0.9104, -0.0813, -0.1333, -0.2930],\n",
       "                      [ 0.9118,  0.8248,  0.1434, -0.6823],\n",
       "                      [ 0.1461, -0.6782, -0.4863,  0.6377],\n",
       "                      [-0.5486, -1.0457,  0.5480, -0.6921],\n",
       "                      [-0.3371,  0.3533,  0.3993,  1.5323],\n",
       "                      [ 0.6777,  0.1470,  0.8740, -1.0514]])),\n",
       "             ('features.1.bias',\n",
       "              tensor([-1.0013, -0.5680,  0.2845,  0.9347,  1.5941, -0.7580, -1.0245, -1.1026])),\n",
       "             ('regressor.0.weight',\n",
       "              tensor([[-0.7181, -0.2923, -0.5094,  0.9037, -0.1102,  0.1834, -0.6361, -0.6734]])),\n",
       "             ('regressor.0.bias', tensor([-2.1455]))])"
      ]
     },
     "execution_count": 5,
     "metadata": {},
     "output_type": "execute_result"
    }
   ],
   "source": [
    "model_with_init_weight_bias = Model(init_weight_bias=True)\n",
    "model_with_init_weight_bias.state_dict()"
   ]
  },
  {
   "cell_type": "code",
   "execution_count": 6,
   "id": "ac9786d6",
   "metadata": {
    "ExecuteTime": {
     "end_time": "2022-03-17T03:26:09.235379Z",
     "start_time": "2022-03-17T03:26:09.204026Z"
    }
   },
   "outputs": [
    {
     "data": {
      "text/plain": [
       "-8.561196327209473"
      ]
     },
     "execution_count": 6,
     "metadata": {},
     "output_type": "execute_result"
    }
   ],
   "source": [
    "X = torch.randint(low=1, high=100, size=(2, ), dtype=torch.float32)\n",
    "model_with_init_weight_bias(X).item()"
   ]
  }
 ],
 "metadata": {
  "kernelspec": {
   "display_name": "Python 3 (ipykernel)",
   "language": "python",
   "name": "python3"
  },
  "language_info": {
   "codemirror_mode": {
    "name": "ipython",
    "version": 3
   },
   "file_extension": ".py",
   "mimetype": "text/x-python",
   "name": "python",
   "nbconvert_exporter": "python",
   "pygments_lexer": "ipython3",
   "version": "3.9.7"
  },
  "nbTranslate": {
   "displayLangs": [
    "*"
   ],
   "hotkey": "alt-t",
   "langInMainMenu": true,
   "sourceLang": "en",
   "targetLang": "fr",
   "useGoogleTranslate": true
  },
  "toc": {
   "base_numbering": 1,
   "nav_menu": {},
   "number_sections": true,
   "sideBar": true,
   "skip_h1_title": false,
   "title_cell": "Table of Contents",
   "title_sidebar": "Contents",
   "toc_cell": false,
   "toc_position": {},
   "toc_section_display": true,
   "toc_window_display": false
  }
 },
 "nbformat": 4,
 "nbformat_minor": 5
}
