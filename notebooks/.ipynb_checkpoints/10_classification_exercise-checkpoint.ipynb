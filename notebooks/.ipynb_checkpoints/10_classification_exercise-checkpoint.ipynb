{
 "cells": [
  {
   "cell_type": "markdown",
   "id": "d1bef19a",
   "metadata": {
    "code_folding": []
   },
   "source": [
    "# Import Modules"
   ]
  },
  {
   "cell_type": "code",
   "execution_count": 1,
   "id": "7fb6b8c9",
   "metadata": {
    "ExecuteTime": {
     "end_time": "2022-03-15T12:46:39.237789Z",
     "start_time": "2022-03-15T12:46:38.033457Z"
    }
   },
   "outputs": [
    {
     "name": "stderr",
     "output_type": "stream",
     "text": [
      "C:\\Users\\62821\\.conda\\envs\\dl_with_me\\lib\\site-packages\\tqdm\\auto.py:22: TqdmWarning: IProgress not found. Please update jupyter and ipywidgets. See https://ipywidgets.readthedocs.io/en/stable/user_install.html\n",
      "  from .autonotebook import tqdm as notebook_tqdm\n"
     ]
    }
   ],
   "source": [
    "import torch\n",
    "import torchvision\n",
    "\n",
    "from time import time\n",
    "from torch import nn, optim\n",
    "from torchvision import datasets, transforms\n",
    "from torch.utils.data import DataLoader\n",
    "from torchmetrics import Accuracy"
   ]
  },
  {
   "cell_type": "markdown",
   "id": "1a033119",
   "metadata": {},
   "source": [
    "# Dataset"
   ]
  },
  {
   "cell_type": "code",
   "execution_count": 2,
   "id": "42d2d3ad",
   "metadata": {
    "ExecuteTime": {
     "end_time": "2022-03-15T12:46:39.253799Z",
     "start_time": "2022-03-15T12:46:39.239777Z"
    }
   },
   "outputs": [],
   "source": [
    "batch_size = 128\n",
    "crop_size = 64\n",
    "\n",
    "train_transform = transforms.Compose([\n",
    "    transforms.RandomRotation(degrees=15),\n",
    "    transforms.RandomResizedCrop(size=crop_size, scale=(0.8, 1.0)),\n",
    "    transforms.ToTensor()\n",
    "])\n",
    "\n",
    "test_transform = transforms.Compose([\n",
    "    transforms.Resize(70),\n",
    "    transforms.CenterCrop(size=crop_size),\n",
    "    transforms.ToTensor()\n",
    "])\n",
    "\n",
    "train_set = datasets.ImageFolder(\"../datasets/hidrangea/train/\", transform=train_transform)\n",
    "train_dataloader = DataLoader(dataset=train_set, batch_size=batch_size, shuffle=True)\n",
    "\n",
    "test_set = datasets.ImageFolder(\"../datasets/hidrangea/test/\", transform=test_transform)\n",
    "test_dataloader = DataLoader(dataset=test_set, batch_size=batch_size, shuffle=True)"
   ]
  },
  {
   "cell_type": "markdown",
   "id": "b3f4cedf",
   "metadata": {},
   "source": [
    "# Build Model"
   ]
  },
  {
   "cell_type": "markdown",
   "id": "a3edcb9e",
   "metadata": {},
   "source": [
    "## Architecture"
   ]
  },
  {
   "cell_type": "code",
   "execution_count": 3,
   "id": "4ca3bda8",
   "metadata": {
    "ExecuteTime": {
     "end_time": "2022-03-15T12:46:39.268993Z",
     "start_time": "2022-03-15T12:46:39.254778Z"
    }
   },
   "outputs": [],
   "source": [
    "class Model(nn.Module):\n",
    "    def __init__(self):\n",
    "        super(Model, self).__init__()\n",
    "        self.conv1 = nn.Sequential(\n",
    "            nn.Conv2d(in_channels=3, out_channels=8, kernel_size=3, stride=1, padding=1),\n",
    "            nn.ReLU(),\n",
    "            nn.MaxPool2d(kernel_size=2)\n",
    "        )\n",
    "        \n",
    "        self.conv2 = nn.Sequential(\n",
    "            nn.Conv2d(in_channels=8, out_channels=16, kernel_size=3, stride=1, padding=1),\n",
    "            nn.ReLU(),\n",
    "            nn.MaxPool2d(kernel_size=2)\n",
    "        )\n",
    "        \n",
    "        self.conv3 = nn.Sequential(\n",
    "            nn.Conv2d(in_channels=16, out_channels=32, kernel_size=3, stride=1, padding=1),\n",
    "            nn.ReLU(),\n",
    "            nn.MaxPool2d(kernel_size=2)\n",
    "        )\n",
    "        \n",
    "        self.conv4 = nn.Sequential(\n",
    "            nn.Conv2d(in_channels=32, out_channels=64, kernel_size=3, stride=1, padding=1),\n",
    "            nn.ReLU(),\n",
    "            nn.MaxPool2d(kernel_size=2)\n",
    "        )\n",
    "        \n",
    "        self.flatten = nn.Flatten()\n",
    "        \n",
    "        self.fc = nn.Sequential(\n",
    "            nn.Linear(in_features=1024, out_features=256),\n",
    "            nn.ReLU(),\n",
    "            nn.Dropout(0.1),\n",
    "            \n",
    "            nn.Linear(256, 2),\n",
    "            nn.LogSoftmax(dim=1)\n",
    "        )\n",
    "    \n",
    "    def forward(self, x):\n",
    "        x = self.conv1(x)\n",
    "        x = self.conv2(x)\n",
    "        x = self.conv3(x)\n",
    "        x = self.conv4(x)\n",
    "        x = self.flatten(x)\n",
    "        x = self.fc(x)\n",
    "        \n",
    "        return x\n",
    "    \n",
    "model = Model()"
   ]
  },
  {
   "cell_type": "markdown",
   "id": "62484835",
   "metadata": {},
   "source": [
    "## Loss Function"
   ]
  },
  {
   "cell_type": "code",
   "execution_count": 4,
   "id": "43778f7d",
   "metadata": {
    "ExecuteTime": {
     "end_time": "2022-03-15T12:46:39.284989Z",
     "start_time": "2022-03-15T12:46:39.271991Z"
    }
   },
   "outputs": [
    {
     "data": {
      "text/plain": [
       "NLLLoss()"
      ]
     },
     "execution_count": 4,
     "metadata": {},
     "output_type": "execute_result"
    }
   ],
   "source": [
    "nll_loss = nn.NLLLoss()\n",
    "nll_loss"
   ]
  },
  {
   "cell_type": "markdown",
   "id": "03715a5a",
   "metadata": {},
   "source": [
    "## Evaluation Metric"
   ]
  },
  {
   "cell_type": "code",
   "execution_count": 5,
   "id": "db9d6407",
   "metadata": {
    "ExecuteTime": {
     "end_time": "2022-03-15T12:46:39.300367Z",
     "start_time": "2022-03-15T12:46:39.289743Z"
    }
   },
   "outputs": [
    {
     "data": {
      "text/plain": [
       "Accuracy()"
      ]
     },
     "execution_count": 5,
     "metadata": {},
     "output_type": "execute_result"
    }
   ],
   "source": [
    "accuracy = Accuracy()\n",
    "accuracy"
   ]
  },
  {
   "cell_type": "markdown",
   "id": "1667ffd5",
   "metadata": {},
   "source": [
    "## Optimizer"
   ]
  },
  {
   "cell_type": "code",
   "execution_count": 6,
   "id": "3a063a81",
   "metadata": {
    "ExecuteTime": {
     "end_time": "2022-03-15T12:46:39.316326Z",
     "start_time": "2022-03-15T12:46:39.302340Z"
    }
   },
   "outputs": [
    {
     "data": {
      "text/plain": [
       "AdamW (\n",
       "Parameter Group 0\n",
       "    amsgrad: False\n",
       "    betas: (0.9, 0.999)\n",
       "    eps: 1e-08\n",
       "    lr: 0.001\n",
       "    maximize: False\n",
       "    weight_decay: 0.01\n",
       ")"
      ]
     },
     "execution_count": 6,
     "metadata": {},
     "output_type": "execute_result"
    }
   ],
   "source": [
    "adamw_optimizer = optim.AdamW(model.parameters(), lr=0.001)\n",
    "adamw_optimizer"
   ]
  },
  {
   "cell_type": "markdown",
   "id": "ba81a1d2",
   "metadata": {},
   "source": [
    "## Loop Function"
   ]
  },
  {
   "cell_type": "code",
   "execution_count": 7,
   "id": "618cf17b",
   "metadata": {
    "ExecuteTime": {
     "end_time": "2022-03-15T12:46:39.332351Z",
     "start_time": "2022-03-15T12:46:39.317326Z"
    }
   },
   "outputs": [],
   "source": [
    "def train_loop(dataloader, model, loss_fn, optimizer, eval_metric):\n",
    "    print(\"Train:\")\n",
    "    \n",
    "    losses = []\n",
    "    for batch, (feature, label) in enumerate(dataloader):\n",
    "        # Forwardpropagation\n",
    "        pred_label = model(feature)\n",
    "        loss = loss_fn(pred_label, label)\n",
    "        acc = eval_metric(pred_label, label)\n",
    "        \n",
    "        # Backpropagation\n",
    "        optimizer.zero_grad()\n",
    "        loss.backward()\n",
    "        optimizer.step()\n",
    "        \n",
    "        loss = loss.item()\n",
    "        losses.append(loss)\n",
    "        \n",
    "        print(f\"Batch-{batch + 1} | Accuracy: {acc:>7f} | Loss: {loss:>7f}\")\n",
    "        \n",
    "    acc = eval_metric.compute()\n",
    "    print(f\"Accuracy : {acc}\")\n",
    "    print(f\"Loss     : {sum(losses) / len(dataloader)}\")\n",
    "    \n",
    "def test_loop(dataloader, model, loss_fn, eval_metric):\n",
    "    print(\"\\nTest:\")\n",
    "    \n",
    "    losses = []\n",
    "    for batch, (feature, label) in enumerate(dataloader):\n",
    "        # Forwardpropagation\n",
    "        pred_label = model(feature)\n",
    "        loss = loss_fn(pred_label, label)\n",
    "        acc = eval_metric(pred_label, label)\n",
    "        \n",
    "        with torch.no_grad():\n",
    "            loss = loss.item()\n",
    "            losses.append(loss)\n",
    "        \n",
    "        print(f\"Batch-{batch + 1} | Accuracy: {acc:>7f} | Loss: {loss:>7f}\")\n",
    "        \n",
    "    acc = eval_metric.compute()\n",
    "    print(f\"Accuracy : {acc}\")\n",
    "    print(f\"Loss     : {sum(losses) / len(dataloader)}\")"
   ]
  },
  {
   "cell_type": "code",
   "execution_count": 8,
   "id": "bd275f6a",
   "metadata": {
    "ExecuteTime": {
     "end_time": "2022-03-15T12:47:18.691640Z",
     "start_time": "2022-03-15T12:46:39.334282Z"
    },
    "scrolled": false
   },
   "outputs": [
    {
     "name": "stdout",
     "output_type": "stream",
     "text": [
      "EPOCH 1\n",
      "==============================================\n",
      "Train:\n",
      "Batch-1 | Accuracy: 0.500000 | Loss: 0.695053\n",
      "Batch-2 | Accuracy: 0.515625 | Loss: 0.691540\n",
      "Batch-3 | Accuracy: 0.585938 | Loss: 0.691864\n",
      "Batch-4 | Accuracy: 0.468750 | Loss: 0.694042\n",
      "Batch-5 | Accuracy: 0.507812 | Loss: 0.689467\n",
      "Batch-6 | Accuracy: 0.468750 | Loss: 0.689888\n",
      "Batch-7 | Accuracy: 0.671875 | Loss: 0.684176\n",
      "Batch-8 | Accuracy: 0.509615 | Loss: 0.685923\n",
      "Accuracy : 0.5289999842643738\n",
      "Loss     : 0.6902441084384918\n",
      "\n",
      "Test:\n",
      "Batch-1 | Accuracy: 0.523438 | Loss: 0.679365\n",
      "Batch-2 | Accuracy: 0.468750 | Loss: 0.678749\n",
      "Batch-3 | Accuracy: 0.554688 | Loss: 0.676836\n",
      "Batch-4 | Accuracy: 0.437500 | Loss: 0.679235\n",
      "Accuracy : 0.5242857336997986\n",
      "Loss     : 0.6785461604595184\n",
      "==============================================\n",
      "\n",
      "EPOCH 2\n",
      "==============================================\n",
      "Train:\n",
      "Batch-1 | Accuracy: 0.617188 | Loss: 0.669658\n",
      "Batch-2 | Accuracy: 0.476562 | Loss: 0.687048\n",
      "Batch-3 | Accuracy: 0.523438 | Loss: 0.666991\n",
      "Batch-4 | Accuracy: 0.554688 | Loss: 0.658810\n",
      "Batch-5 | Accuracy: 0.585938 | Loss: 0.667809\n",
      "Batch-6 | Accuracy: 0.781250 | Loss: 0.654540\n",
      "Batch-7 | Accuracy: 0.765625 | Loss: 0.639773\n",
      "Batch-8 | Accuracy: 0.692308 | Loss: 0.647054\n",
      "Accuracy : 0.565416693687439\n",
      "Loss     : 0.6614602729678154\n",
      "\n",
      "Test:\n",
      "Batch-1 | Accuracy: 0.734375 | Loss: 0.590623\n",
      "Batch-2 | Accuracy: 0.750000 | Loss: 0.602629\n",
      "Batch-3 | Accuracy: 0.718750 | Loss: 0.619119\n",
      "Batch-4 | Accuracy: 0.750000 | Loss: 0.607137\n",
      "Accuracy : 0.5896428823471069\n",
      "Loss     : 0.604877158999443\n",
      "==============================================\n",
      "\n",
      "EPOCH 3\n",
      "==============================================\n",
      "Train:\n",
      "Batch-1 | Accuracy: 0.757812 | Loss: 0.607063\n",
      "Batch-2 | Accuracy: 0.750000 | Loss: 0.565579\n",
      "Batch-3 | Accuracy: 0.679688 | Loss: 0.603627\n",
      "Batch-4 | Accuracy: 0.789062 | Loss: 0.561541\n",
      "Batch-5 | Accuracy: 0.750000 | Loss: 0.574003\n",
      "Batch-6 | Accuracy: 0.773438 | Loss: 0.492875\n",
      "Batch-7 | Accuracy: 0.601562 | Loss: 0.653060\n",
      "Batch-8 | Accuracy: 0.750000 | Loss: 0.502744\n",
      "Accuracy : 0.6268420815467834\n",
      "Loss     : 0.570061456412077\n",
      "\n",
      "Test:\n",
      "Batch-1 | Accuracy: 0.796875 | Loss: 0.514626\n",
      "Batch-2 | Accuracy: 0.757812 | Loss: 0.502290\n",
      "Batch-3 | Accuracy: 0.757812 | Loss: 0.519644\n",
      "Batch-4 | Accuracy: 0.750000 | Loss: 0.464261\n",
      "Accuracy : 0.6404761672019958\n",
      "Loss     : 0.5002054125070572\n",
      "==============================================\n",
      "\n",
      "EPOCH 4\n",
      "==============================================\n",
      "Train:\n",
      "Batch-1 | Accuracy: 0.648438 | Loss: 0.644075\n",
      "Batch-2 | Accuracy: 0.734375 | Loss: 0.547979\n",
      "Batch-3 | Accuracy: 0.796875 | Loss: 0.484613\n",
      "Batch-4 | Accuracy: 0.789062 | Loss: 0.477070\n",
      "Batch-5 | Accuracy: 0.781250 | Loss: 0.506749\n",
      "Batch-6 | Accuracy: 0.867188 | Loss: 0.381629\n",
      "Batch-7 | Accuracy: 0.804688 | Loss: 0.439005\n",
      "Batch-8 | Accuracy: 0.826923 | Loss: 0.422583\n",
      "Accuracy : 0.6673076748847961\n",
      "Loss     : 0.48796289414167404\n",
      "\n",
      "Test:\n",
      "Batch-1 | Accuracy: 0.695312 | Loss: 0.591461\n",
      "Batch-2 | Accuracy: 0.765625 | Loss: 0.443883\n",
      "Batch-3 | Accuracy: 0.781250 | Loss: 0.409423\n",
      "Batch-4 | Accuracy: 0.812500 | Loss: 0.318445\n",
      "Accuracy : 0.6732142567634583\n",
      "Loss     : 0.44080283492803574\n",
      "==============================================\n",
      "\n",
      "EPOCH 5\n",
      "==============================================\n",
      "Train:\n",
      "Batch-1 | Accuracy: 0.781250 | Loss: 0.452227\n",
      "Batch-2 | Accuracy: 0.757812 | Loss: 0.514096\n",
      "Batch-3 | Accuracy: 0.765625 | Loss: 0.480880\n",
      "Batch-4 | Accuracy: 0.812500 | Loss: 0.431487\n",
      "Batch-5 | Accuracy: 0.789062 | Loss: 0.461343\n",
      "Batch-6 | Accuracy: 0.812500 | Loss: 0.443147\n",
      "Batch-7 | Accuracy: 0.765625 | Loss: 0.536916\n",
      "Batch-8 | Accuracy: 0.778846 | Loss: 0.425624\n",
      "Accuracy : 0.6898484826087952\n",
      "Loss     : 0.4682150185108185\n",
      "\n",
      "Test:\n",
      "Batch-1 | Accuracy: 0.804688 | Loss: 0.420114\n",
      "Batch-2 | Accuracy: 0.812500 | Loss: 0.389822\n",
      "Batch-3 | Accuracy: 0.812500 | Loss: 0.433409\n",
      "Batch-4 | Accuracy: 1.000000 | Loss: 0.223165\n",
      "Accuracy : 0.6971428394317627\n",
      "Loss     : 0.36662742495536804\n",
      "==============================================\n",
      "\n",
      "EPOCH 6\n",
      "==============================================\n",
      "Train:\n",
      "Batch-1 | Accuracy: 0.859375 | Loss: 0.395144\n",
      "Batch-2 | Accuracy: 0.718750 | Loss: 0.542163\n",
      "Batch-3 | Accuracy: 0.703125 | Loss: 0.559172\n",
      "Batch-4 | Accuracy: 0.773438 | Loss: 0.449989\n",
      "Batch-5 | Accuracy: 0.765625 | Loss: 0.522324\n",
      "Batch-6 | Accuracy: 0.773438 | Loss: 0.466544\n",
      "Batch-7 | Accuracy: 0.812500 | Loss: 0.385600\n",
      "Batch-8 | Accuracy: 0.807692 | Loss: 0.443276\n",
      "Accuracy : 0.7070000171661377\n",
      "Loss     : 0.4705265760421753\n",
      "\n",
      "Test:\n",
      "Batch-1 | Accuracy: 0.742188 | Loss: 0.483134\n",
      "Batch-2 | Accuracy: 0.773438 | Loss: 0.452816\n",
      "Batch-3 | Accuracy: 0.835938 | Loss: 0.430139\n",
      "Batch-4 | Accuracy: 0.937500 | Loss: 0.355721\n",
      "Accuracy : 0.7109524011611938\n",
      "Loss     : 0.43045252561569214\n",
      "==============================================\n",
      "\n",
      "EPOCH 7\n",
      "==============================================\n",
      "Train:\n",
      "Batch-1 | Accuracy: 0.796875 | Loss: 0.414355\n",
      "Batch-2 | Accuracy: 0.781250 | Loss: 0.436540\n",
      "Batch-3 | Accuracy: 0.796875 | Loss: 0.429132\n",
      "Batch-4 | Accuracy: 0.726562 | Loss: 0.512397\n",
      "Batch-5 | Accuracy: 0.734375 | Loss: 0.486802\n",
      "Batch-6 | Accuracy: 0.843750 | Loss: 0.345263\n",
      "Batch-7 | Accuracy: 0.789062 | Loss: 0.437509\n",
      "Batch-8 | Accuracy: 0.826923 | Loss: 0.413046\n",
      "Accuracy : 0.7189361453056335\n",
      "Loss     : 0.4343806654214859\n",
      "\n",
      "Test:\n",
      "Batch-1 | Accuracy: 0.796875 | Loss: 0.434437\n",
      "Batch-2 | Accuracy: 0.835938 | Loss: 0.379987\n",
      "Batch-3 | Accuracy: 0.851562 | Loss: 0.382125\n",
      "Batch-4 | Accuracy: 0.937500 | Loss: 0.299134\n",
      "Accuracy : 0.7235714197158813\n",
      "Loss     : 0.37392089515924454\n",
      "==============================================\n",
      "\n",
      "EPOCH 8\n",
      "==============================================\n",
      "Train:\n",
      "Batch-1 | Accuracy: 0.812500 | Loss: 0.415486\n",
      "Batch-2 | Accuracy: 0.796875 | Loss: 0.426772\n",
      "Batch-3 | Accuracy: 0.835938 | Loss: 0.437111\n",
      "Batch-4 | Accuracy: 0.765625 | Loss: 0.473260\n",
      "Batch-5 | Accuracy: 0.812500 | Loss: 0.402161\n",
      "Batch-6 | Accuracy: 0.812500 | Loss: 0.454906\n",
      "Batch-7 | Accuracy: 0.859375 | Loss: 0.362563\n",
      "Batch-8 | Accuracy: 0.846154 | Loss: 0.383356\n",
      "Accuracy : 0.7322221994400024\n",
      "Loss     : 0.4194517098367214\n",
      "\n",
      "Test:\n",
      "Batch-1 | Accuracy: 0.828125 | Loss: 0.366849\n",
      "Batch-2 | Accuracy: 0.851562 | Loss: 0.367199\n",
      "Batch-3 | Accuracy: 0.796875 | Loss: 0.421384\n",
      "Batch-4 | Accuracy: 0.625000 | Loss: 0.480479\n",
      "Accuracy : 0.7352678775787354\n",
      "Loss     : 0.40897783637046814\n",
      "==============================================\n",
      "\n",
      "EPOCH 9\n",
      "==============================================\n",
      "Train:\n",
      "Batch-1 | Accuracy: 0.781250 | Loss: 0.473017\n",
      "Batch-2 | Accuracy: 0.820312 | Loss: 0.424236\n",
      "Batch-3 | Accuracy: 0.843750 | Loss: 0.406572\n",
      "Batch-4 | Accuracy: 0.828125 | Loss: 0.381306\n",
      "Batch-5 | Accuracy: 0.796875 | Loss: 0.413779\n",
      "Batch-6 | Accuracy: 0.781250 | Loss: 0.424749\n",
      "Batch-7 | Accuracy: 0.820312 | Loss: 0.444167\n",
      "Batch-8 | Accuracy: 0.826923 | Loss: 0.366022\n",
      "Accuracy : 0.7415573596954346\n",
      "Loss     : 0.4167311042547226\n",
      "\n",
      "Test:\n",
      "Batch-1 | Accuracy: 0.859375 | Loss: 0.358023\n",
      "Batch-2 | Accuracy: 0.796875 | Loss: 0.430234\n",
      "Batch-3 | Accuracy: 0.835938 | Loss: 0.367583\n",
      "Batch-4 | Accuracy: 0.812500 | Loss: 0.360187\n",
      "Accuracy : 0.7443650960922241\n",
      "Loss     : 0.3790067285299301\n",
      "==============================================\n",
      "\n",
      "EPOCH 10\n",
      "==============================================\n",
      "Train:\n",
      "Batch-1 | Accuracy: 0.843750 | Loss: 0.422572\n",
      "Batch-2 | Accuracy: 0.796875 | Loss: 0.395164\n",
      "Batch-3 | Accuracy: 0.820312 | Loss: 0.456866\n",
      "Batch-4 | Accuracy: 0.820312 | Loss: 0.398677\n",
      "Batch-5 | Accuracy: 0.859375 | Loss: 0.364692\n",
      "Batch-6 | Accuracy: 0.851562 | Loss: 0.429304\n",
      "Batch-7 | Accuracy: 0.820312 | Loss: 0.360322\n",
      "Batch-8 | Accuracy: 0.798077 | Loss: 0.415278\n",
      "Accuracy : 0.7504411935806274\n",
      "Loss     : 0.40535951033234596\n",
      "\n",
      "Test:\n",
      "Batch-1 | Accuracy: 0.828125 | Loss: 0.375622\n",
      "Batch-2 | Accuracy: 0.812500 | Loss: 0.371148\n",
      "Batch-3 | Accuracy: 0.828125 | Loss: 0.403920\n",
      "Batch-4 | Accuracy: 0.687500 | Loss: 0.635482\n",
      "Accuracy : 0.7523571252822876\n",
      "Loss     : 0.4465431272983551\n",
      "==============================================\n",
      "\n",
      "Training time: 0.656 seconds\n"
     ]
    }
   ],
   "source": [
    "epochs = 10\n",
    "\n",
    "start = time()\n",
    "for epoch in range(epochs):\n",
    "    print(f\"EPOCH {epoch + 1}\")\n",
    "    print(\"=\" * 46, end=\"\\n\")\n",
    "    train_loop(train_dataloader, model, nll_loss, adamw_optimizer, accuracy)\n",
    "    test_loop(test_dataloader, model, nll_loss, accuracy)\n",
    "    print(\"=\" * 46, end=\"\\n\\n\")\n",
    "stop = time()\n",
    "\n",
    "total_time = stop - start\n",
    "print(f\"Training time: {(total_time / 60):.3f} seconds\")"
   ]
  }
 ],
 "metadata": {
  "kernelspec": {
   "display_name": "Python 3 (ipykernel)",
   "language": "python",
   "name": "python3"
  },
  "language_info": {
   "codemirror_mode": {
    "name": "ipython",
    "version": 3
   },
   "file_extension": ".py",
   "mimetype": "text/x-python",
   "name": "python",
   "nbconvert_exporter": "python",
   "pygments_lexer": "ipython3",
   "version": "3.9.7"
  },
  "nbTranslate": {
   "displayLangs": [
    "*"
   ],
   "hotkey": "alt-t",
   "langInMainMenu": true,
   "sourceLang": "en",
   "targetLang": "fr",
   "useGoogleTranslate": true
  },
  "toc": {
   "base_numbering": 1,
   "nav_menu": {},
   "number_sections": true,
   "sideBar": true,
   "skip_h1_title": false,
   "title_cell": "Table of Contents",
   "title_sidebar": "Contents",
   "toc_cell": false,
   "toc_position": {
    "height": "calc(100% - 180px)",
    "left": "10px",
    "top": "150px",
    "width": "256px"
   },
   "toc_section_display": true,
   "toc_window_display": true
  }
 },
 "nbformat": 4,
 "nbformat_minor": 5
}
