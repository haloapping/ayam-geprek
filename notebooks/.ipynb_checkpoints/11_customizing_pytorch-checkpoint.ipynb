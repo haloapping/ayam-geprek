{
 "cells": [
  {
   "cell_type": "markdown",
   "id": "3caec765",
   "metadata": {},
   "source": [
    "# Import Modules"
   ]
  },
  {
   "cell_type": "code",
   "execution_count": 1,
   "id": "372a099e",
   "metadata": {
    "ExecuteTime": {
     "end_time": "2022-03-17T03:19:30.724980Z",
     "start_time": "2022-03-17T03:19:27.781347Z"
    }
   },
   "outputs": [
    {
     "name": "stderr",
     "output_type": "stream",
     "text": [
      "C:\\Users\\62821\\.conda\\envs\\dl_with_me\\lib\\site-packages\\tqdm\\auto.py:22: TqdmWarning: IProgress not found. Please update jupyter and ipywidgets. See https://ipywidgets.readthedocs.io/en/stable/user_install.html\n",
      "  from .autonotebook import tqdm as notebook_tqdm\n"
     ]
    }
   ],
   "source": [
    "import torch\n",
    "from torch import nn\n",
    "from torch.nn import init"
   ]
  },
  {
   "cell_type": "markdown",
   "id": "b0151ddc",
   "metadata": {},
   "source": [
    "# Custom Weight and Bias"
   ]
  },
  {
   "cell_type": "code",
   "execution_count": 2,
   "id": "127f7352",
   "metadata": {
    "ExecuteTime": {
     "end_time": "2022-03-17T03:19:30.802409Z",
     "start_time": "2022-03-17T03:19:30.729620Z"
    }
   },
   "outputs": [
    {
     "data": {
      "text/plain": [
       "Model(\n",
       "  (features): Sequential(\n",
       "    (0): Linear(in_features=2, out_features=4, bias=True)\n",
       "    (1): Linear(in_features=4, out_features=8, bias=True)\n",
       "  )\n",
       "  (regressor): Sequential(\n",
       "    (0): Linear(in_features=8, out_features=1, bias=True)\n",
       "  )\n",
       ")"
      ]
     },
     "execution_count": 2,
     "metadata": {},
     "output_type": "execute_result"
    }
   ],
   "source": [
    "class Model(nn.Module):\n",
    "    def __init__(self, init_weight_bias=False):\n",
    "        super(Model, self).__init__()\n",
    "        \n",
    "        self.features = nn.Sequential(\n",
    "            nn.Linear(2, 4),\n",
    "            nn.Linear(4, 8),\n",
    "        )\n",
    "        \n",
    "        self.regressor = nn.Sequential(\n",
    "            nn.Linear(8, 1)\n",
    "        )\n",
    "        \n",
    "        if init_weight_bias:\n",
    "            self.init_weight_bias()\n",
    "\n",
    "    def init_weight_bias(self):\n",
    "        for layer in self.get_submodule(\"features\"):\n",
    "            layer.weight = nn.parameter.Parameter(\n",
    "                init.kaiming_normal_(\n",
    "                    tensor=torch.empty(layer.weight.shape),\n",
    "                    a=0,\n",
    "                    mode=\"fan_in\",\n",
    "                    nonlinearity=\"leaky_relu\"\n",
    "                )\n",
    "            )\n",
    "            \n",
    "            layer.bias = nn.parameter.Parameter(\n",
    "                init.kaiming_normal_(\n",
    "                    tensor=torch.empty(layer.bias.shape[0], 1),\n",
    "                    a=0,\n",
    "                    mode=\"fan_in\",\n",
    "                    nonlinearity=\"leaky_relu\"\n",
    "                ).flatten()\n",
    "            )\n",
    "            \n",
    "        for layer in self.get_submodule(\"regressor\"):\n",
    "            layer.weight = nn.parameter.Parameter(\n",
    "                init.kaiming_normal_(\n",
    "                    tensor=torch.empty(layer.weight.shape),\n",
    "                    a=0,\n",
    "                    mode=\"fan_in\",\n",
    "                    nonlinearity=\"leaky_relu\"\n",
    "                )\n",
    "            )\n",
    "            \n",
    "            layer.bias = nn.parameter.Parameter(\n",
    "                init.kaiming_normal_(\n",
    "                    tensor=torch.empty(layer.bias.shape[0], 1),\n",
    "                    a=0,\n",
    "                    mode=\"fan_in\",\n",
    "                    nonlinearity=\"leaky_relu\"\n",
    "                ).flatten()\n",
    "            )\n",
    "        \n",
    "    def forward(self, X):\n",
    "        X = self.features(X)\n",
    "        X = self.regressor(X)\n",
    "        \n",
    "        return X\n",
    "\n",
    "Model()"
   ]
  },
  {
   "cell_type": "markdown",
   "id": "66731b86",
   "metadata": {},
   "source": [
    "# Without Init Weight Bias"
   ]
  },
  {
   "cell_type": "code",
   "execution_count": 3,
   "id": "fb3d716e",
   "metadata": {
    "ExecuteTime": {
     "end_time": "2022-03-17T03:19:30.858776Z",
     "start_time": "2022-03-17T03:19:30.809394Z"
    }
   },
   "outputs": [
    {
     "data": {
      "text/plain": [
       "OrderedDict([('features.0.weight',\n",
       "              tensor([[-0.1690, -0.5772],\n",
       "                      [ 0.2068, -0.4578],\n",
       "                      [-0.6095,  0.2628],\n",
       "                      [ 0.5465,  0.2796]])),\n",
       "             ('features.0.bias', tensor([-0.5703, -0.2293, -0.1294,  0.4650])),\n",
       "             ('features.1.weight',\n",
       "              tensor([[ 0.1644, -0.2435, -0.3900,  0.0465],\n",
       "                      [-0.3416, -0.1947,  0.0654,  0.4741],\n",
       "                      [-0.3091,  0.1285, -0.2488,  0.3686],\n",
       "                      [ 0.3393, -0.0681,  0.0978,  0.2410],\n",
       "                      [ 0.0265, -0.2275, -0.0651,  0.3685],\n",
       "                      [-0.2107, -0.4869, -0.1816,  0.3392],\n",
       "                      [ 0.3699,  0.2367, -0.0845, -0.3352],\n",
       "                      [ 0.1770,  0.4642,  0.2331, -0.3586]])),\n",
       "             ('features.1.bias',\n",
       "              tensor([-0.3951,  0.3400,  0.4565, -0.3223,  0.4544,  0.1985,  0.3268, -0.3842])),\n",
       "             ('regressor.0.weight',\n",
       "              tensor([[-0.3157, -0.1448,  0.1121,  0.2427, -0.1862,  0.0396, -0.2287, -0.0755]])),\n",
       "             ('regressor.0.bias', tensor([0.1760]))])"
      ]
     },
     "execution_count": 3,
     "metadata": {},
     "output_type": "execute_result"
    }
   ],
   "source": [
    "model_without_init_weight_bias = Model(init_weight_bias=False)\n",
    "model_without_init_weight_bias.state_dict()"
   ]
  },
  {
   "cell_type": "code",
   "execution_count": 4,
   "id": "39fda8af",
   "metadata": {
    "ExecuteTime": {
     "end_time": "2022-03-17T03:19:30.897668Z",
     "start_time": "2022-03-17T03:19:30.869150Z"
    }
   },
   "outputs": [
    {
     "data": {
      "text/plain": [
       "2.8935952186584473"
      ]
     },
     "execution_count": 4,
     "metadata": {},
     "output_type": "execute_result"
    }
   ],
   "source": [
    "X = torch.randint(low=1, high=100, size=(2, ), dtype=torch.float32)\n",
    "model_without_init_weight_bias(X).item()"
   ]
  },
  {
   "cell_type": "markdown",
   "id": "8403e0e8",
   "metadata": {},
   "source": [
    "# With Init Weight Bias"
   ]
  },
  {
   "cell_type": "code",
   "execution_count": 5,
   "id": "11a9ab0e",
   "metadata": {
    "ExecuteTime": {
     "end_time": "2022-03-17T03:19:33.167216Z",
     "start_time": "2022-03-17T03:19:30.905155Z"
    },
    "run_control": {
     "marked": false
    }
   },
   "outputs": [
    {
     "ename": "TypeError",
     "evalue": "empty() received an invalid combination of arguments - got (torch.Size, int), but expected one of:\n * (tuple of ints size, *, tuple of names names, torch.memory_format memory_format, torch.dtype dtype, torch.layout layout, torch.device device, bool pin_memory, bool requires_grad)\n * (tuple of ints size, *, torch.memory_format memory_format, Tensor out, torch.dtype dtype, torch.layout layout, torch.device device, bool pin_memory, bool requires_grad)\n",
     "output_type": "error",
     "traceback": [
      "\u001b[1;31m---------------------------------------------------------------------------\u001b[0m",
      "\u001b[1;31mTypeError\u001b[0m                                 Traceback (most recent call last)",
      "Input \u001b[1;32mIn [5]\u001b[0m, in \u001b[0;36m<cell line: 1>\u001b[1;34m()\u001b[0m\n\u001b[1;32m----> 1\u001b[0m model_with_init_weight_bias \u001b[38;5;241m=\u001b[39m \u001b[43mModel\u001b[49m\u001b[43m(\u001b[49m\u001b[43minit_weight_bias\u001b[49m\u001b[38;5;241;43m=\u001b[39;49m\u001b[38;5;28;43;01mTrue\u001b[39;49;00m\u001b[43m)\u001b[49m\n\u001b[0;32m      2\u001b[0m model_with_init_weight_bias\u001b[38;5;241m.\u001b[39mstate_dict()\n",
      "Input \u001b[1;32mIn [2]\u001b[0m, in \u001b[0;36mModel.__init__\u001b[1;34m(self, init_weight_bias)\u001b[0m\n\u001b[0;32m     10\u001b[0m \u001b[38;5;28mself\u001b[39m\u001b[38;5;241m.\u001b[39mregressor \u001b[38;5;241m=\u001b[39m nn\u001b[38;5;241m.\u001b[39mSequential(\n\u001b[0;32m     11\u001b[0m     nn\u001b[38;5;241m.\u001b[39mLinear(\u001b[38;5;241m8\u001b[39m, \u001b[38;5;241m1\u001b[39m)\n\u001b[0;32m     12\u001b[0m )\n\u001b[0;32m     14\u001b[0m \u001b[38;5;28;01mif\u001b[39;00m init_weight_bias:\n\u001b[1;32m---> 15\u001b[0m     \u001b[38;5;28;43mself\u001b[39;49m\u001b[38;5;241;43m.\u001b[39;49m\u001b[43minit_weight_bias\u001b[49m\u001b[43m(\u001b[49m\u001b[43m)\u001b[49m\n",
      "Input \u001b[1;32mIn [2]\u001b[0m, in \u001b[0;36mModel.init_weight_bias\u001b[1;34m(self)\u001b[0m\n\u001b[0;32m     18\u001b[0m \u001b[38;5;28;01mfor\u001b[39;00m layer \u001b[38;5;129;01min\u001b[39;00m \u001b[38;5;28mself\u001b[39m\u001b[38;5;241m.\u001b[39mget_submodule(\u001b[38;5;124m\"\u001b[39m\u001b[38;5;124mfeatures\u001b[39m\u001b[38;5;124m\"\u001b[39m):\n\u001b[0;32m     19\u001b[0m     layer\u001b[38;5;241m.\u001b[39mweight \u001b[38;5;241m=\u001b[39m nn\u001b[38;5;241m.\u001b[39mparameter\u001b[38;5;241m.\u001b[39mParameter(\n\u001b[0;32m     20\u001b[0m         init\u001b[38;5;241m.\u001b[39mkaiming_normal_(\n\u001b[0;32m     21\u001b[0m             tensor\u001b[38;5;241m=\u001b[39mtorch\u001b[38;5;241m.\u001b[39mempty(layer\u001b[38;5;241m.\u001b[39mweight\u001b[38;5;241m.\u001b[39mshape),\n\u001b[1;32m   (...)\u001b[0m\n\u001b[0;32m     25\u001b[0m         )\n\u001b[0;32m     26\u001b[0m     )\n\u001b[0;32m     28\u001b[0m     layer\u001b[38;5;241m.\u001b[39mbias \u001b[38;5;241m=\u001b[39m nn\u001b[38;5;241m.\u001b[39mparameter\u001b[38;5;241m.\u001b[39mParameter(\n\u001b[0;32m     29\u001b[0m         init\u001b[38;5;241m.\u001b[39mkaiming_normal_(\n\u001b[1;32m---> 30\u001b[0m             tensor\u001b[38;5;241m=\u001b[39m\u001b[43mtorch\u001b[49m\u001b[38;5;241;43m.\u001b[39;49m\u001b[43mempty\u001b[49m\u001b[43m(\u001b[49m\u001b[43mlayer\u001b[49m\u001b[38;5;241;43m.\u001b[39;49m\u001b[43mbias\u001b[49m\u001b[38;5;241;43m.\u001b[39;49m\u001b[43mshape\u001b[49m\u001b[43m,\u001b[49m\u001b[43m \u001b[49m\u001b[38;5;241;43m1\u001b[39;49m\u001b[43m)\u001b[49m,\n\u001b[0;32m     31\u001b[0m             a\u001b[38;5;241m=\u001b[39m\u001b[38;5;241m0\u001b[39m,\n\u001b[0;32m     32\u001b[0m             mode\u001b[38;5;241m=\u001b[39m\u001b[38;5;124m\"\u001b[39m\u001b[38;5;124mfan_in\u001b[39m\u001b[38;5;124m\"\u001b[39m,\n\u001b[0;32m     33\u001b[0m             nonlinearity\u001b[38;5;241m=\u001b[39m\u001b[38;5;124m\"\u001b[39m\u001b[38;5;124mleaky_relu\u001b[39m\u001b[38;5;124m\"\u001b[39m\n\u001b[0;32m     34\u001b[0m         )\u001b[38;5;241m.\u001b[39mflatten()\n\u001b[0;32m     35\u001b[0m     )\n\u001b[0;32m     37\u001b[0m \u001b[38;5;28;01mfor\u001b[39;00m layer \u001b[38;5;129;01min\u001b[39;00m \u001b[38;5;28mself\u001b[39m\u001b[38;5;241m.\u001b[39mget_submodule(\u001b[38;5;124m\"\u001b[39m\u001b[38;5;124mregressor\u001b[39m\u001b[38;5;124m\"\u001b[39m):\n\u001b[0;32m     38\u001b[0m     layer\u001b[38;5;241m.\u001b[39mweight \u001b[38;5;241m=\u001b[39m nn\u001b[38;5;241m.\u001b[39mparameter\u001b[38;5;241m.\u001b[39mParameter(\n\u001b[0;32m     39\u001b[0m         init\u001b[38;5;241m.\u001b[39mkaiming_normal_(\n\u001b[0;32m     40\u001b[0m             tensor\u001b[38;5;241m=\u001b[39mtorch\u001b[38;5;241m.\u001b[39mempty(layer\u001b[38;5;241m.\u001b[39mweight\u001b[38;5;241m.\u001b[39mshape),\n\u001b[1;32m   (...)\u001b[0m\n\u001b[0;32m     44\u001b[0m         )\n\u001b[0;32m     45\u001b[0m     )\n",
      "\u001b[1;31mTypeError\u001b[0m: empty() received an invalid combination of arguments - got (torch.Size, int), but expected one of:\n * (tuple of ints size, *, tuple of names names, torch.memory_format memory_format, torch.dtype dtype, torch.layout layout, torch.device device, bool pin_memory, bool requires_grad)\n * (tuple of ints size, *, torch.memory_format memory_format, Tensor out, torch.dtype dtype, torch.layout layout, torch.device device, bool pin_memory, bool requires_grad)\n"
     ]
    }
   ],
   "source": [
    "model_with_init_weight_bias = Model(init_weight_bias=True)\n",
    "model_with_init_weight_bias.state_dict()"
   ]
  },
  {
   "cell_type": "code",
   "execution_count": null,
   "id": "08c59bab",
   "metadata": {
    "ExecuteTime": {
     "end_time": "2022-03-17T03:19:33.176550Z",
     "start_time": "2022-03-17T03:19:33.176550Z"
    }
   },
   "outputs": [],
   "source": [
    "X = torch.randint(low=1, high=100, size=(2, ), dtype=torch.float32)\n",
    "model_with_init_weight_bias(X).item()"
   ]
  }
 ],
 "metadata": {
  "kernelspec": {
   "display_name": "Python 3 (ipykernel)",
   "language": "python",
   "name": "python3"
  },
  "language_info": {
   "codemirror_mode": {
    "name": "ipython",
    "version": 3
   },
   "file_extension": ".py",
   "mimetype": "text/x-python",
   "name": "python",
   "nbconvert_exporter": "python",
   "pygments_lexer": "ipython3",
   "version": "3.9.7"
  },
  "nbTranslate": {
   "displayLangs": [
    "*"
   ],
   "hotkey": "alt-t",
   "langInMainMenu": true,
   "sourceLang": "en",
   "targetLang": "fr",
   "useGoogleTranslate": true
  },
  "toc": {
   "base_numbering": 1,
   "nav_menu": {},
   "number_sections": true,
   "sideBar": true,
   "skip_h1_title": false,
   "title_cell": "Table of Contents",
   "title_sidebar": "Contents",
   "toc_cell": false,
   "toc_position": {},
   "toc_section_display": true,
   "toc_window_display": false
  }
 },
 "nbformat": 4,
 "nbformat_minor": 5
}
