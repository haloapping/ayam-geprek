{
 "cells": [
  {
   "cell_type": "markdown",
   "id": "f1983fe1",
   "metadata": {},
   "source": [
    "# Loop Function\n",
    "\n",
    "- Pada proses pelatihan model, model akan dilatih melalui iterasi berkali-kali dengan tujuan agar loss yang dihasilkan pada proses training berkurang.\n",
    "- Proses iterasi ini disebut **training loop**.\n",
    "- Jumlah iterasi ini juga biasa disebut **epoch**. **Epoch** merupakan salah satu hyperparameter.\n",
    "- Jumlah **epoch** telah ditentukan sebelumnya."
   ]
  },
  {
   "cell_type": "markdown",
   "id": "63a375bb",
   "metadata": {},
   "source": [
    "# Loop Function in Pytorch"
   ]
  },
  {
   "cell_type": "markdown",
   "id": "ec701a13",
   "metadata": {},
   "source": [
    "## Import Modules"
   ]
  },
  {
   "cell_type": "code",
   "execution_count": 9,
   "id": "9297c889",
   "metadata": {
    "ExecuteTime": {
     "end_time": "2022-03-14T01:25:29.548847Z",
     "start_time": "2022-03-14T01:25:29.539416Z"
    }
   },
   "outputs": [],
   "source": [
    "import torch\n",
    "\n",
    "from torch import nn, optim\n",
    "from torch.utils.data import DataLoader, TensorDataset\n",
    "from torchmetrics.functional import r2_score"
   ]
  },
  {
   "cell_type": "markdown",
   "id": "2c76fb95",
   "metadata": {},
   "source": [
    "## Dataset\n",
    "\n",
    "- Dataset yang digunakan adalah kumpulan bilangan yang dibuat menggunakan random generator.\n",
    "- Variabel X (fitur) berukuran 50 baris dan 4 kolom dan variabel y (target) berukuran 50 baris dan 1 kolom."
   ]
  },
  {
   "cell_type": "code",
   "execution_count": 11,
   "id": "2b58f687",
   "metadata": {
    "ExecuteTime": {
     "end_time": "2022-03-14T02:14:57.196821Z",
     "start_time": "2022-03-14T02:14:57.167514Z"
    }
   },
   "outputs": [
    {
     "name": "stdout",
     "output_type": "stream",
     "text": [
      "X:\n",
      "tensor([[0.8823, 0.9150, 0.3829],\n",
      "        [0.9593, 0.3904, 0.6009],\n",
      "        [0.2566, 0.7936, 0.9408],\n",
      "        [0.1332, 0.9346, 0.5936],\n",
      "        [0.8694, 0.5677, 0.7411],\n",
      "        [0.4294, 0.8854, 0.5739],\n",
      "        [0.2666, 0.6274, 0.2696],\n",
      "        [0.4414, 0.2969, 0.8317],\n",
      "        [0.1053, 0.2695, 0.3588],\n",
      "        [0.1994, 0.5472, 0.0062],\n",
      "        [0.9516, 0.0753, 0.8860],\n",
      "        [0.5832, 0.3376, 0.8090],\n",
      "        [0.5779, 0.9040, 0.5547],\n",
      "        [0.3423, 0.6343, 0.3644],\n",
      "        [0.7104, 0.9464, 0.7890],\n",
      "        [0.2814, 0.7886, 0.5895],\n",
      "        [0.7539, 0.1952, 0.0050],\n",
      "        [0.3068, 0.1165, 0.9103],\n",
      "        [0.6440, 0.7071, 0.6581],\n",
      "        [0.4913, 0.8913, 0.1447]])\n",
      "\n",
      "y:\n",
      "tensor([[0.5315],\n",
      "        [0.1587],\n",
      "        [0.6542],\n",
      "        [0.3278],\n",
      "        [0.6532],\n",
      "        [0.3958],\n",
      "        [0.9147],\n",
      "        [0.2036],\n",
      "        [0.2018],\n",
      "        [0.2018],\n",
      "        [0.9497],\n",
      "        [0.6666],\n",
      "        [0.9811],\n",
      "        [0.0874],\n",
      "        [0.0041],\n",
      "        [0.1088],\n",
      "        [0.1637],\n",
      "        [0.7025],\n",
      "        [0.6790],\n",
      "        [0.9155]])\n"
     ]
    }
   ],
   "source": [
    "torch.manual_seed(42)\n",
    "\n",
    "X = torch.rand(size=(20, 4))\n",
    "y = torch.rand(size=(20, 1))\n",
    "\n",
    "print(f\"X:\\n{X}\\n\")\n",
    "print(f\"y:\\n{y}\")"
   ]
  },
  {
   "cell_type": "markdown",
   "id": "9fc9f455",
   "metadata": {},
   "source": [
    "## Tensor Dataset\n",
    "\n",
    "- Variabel X dan y digabungkan dengan menggunakan modul `TensorDataset`.\n",
    "- Hal ini dilakukan untuk mempermudah mengambil nilai dari variabel X dan y pada saat proses pelatihan model."
   ]
  },
  {
   "cell_type": "code",
   "execution_count": 12,
   "id": "d95b5daa",
   "metadata": {
    "ExecuteTime": {
     "end_time": "2022-03-14T02:15:01.734156Z",
     "start_time": "2022-03-14T02:15:01.717993Z"
    }
   },
   "outputs": [
    {
     "data": {
      "text/plain": [
       "(tensor([[0.8823, 0.9150, 0.3829],\n",
       "         [0.9593, 0.3904, 0.6009],\n",
       "         [0.2566, 0.7936, 0.9408],\n",
       "         [0.1332, 0.9346, 0.5936],\n",
       "         [0.8694, 0.5677, 0.7411],\n",
       "         [0.4294, 0.8854, 0.5739],\n",
       "         [0.2666, 0.6274, 0.2696],\n",
       "         [0.4414, 0.2969, 0.8317],\n",
       "         [0.1053, 0.2695, 0.3588],\n",
       "         [0.1994, 0.5472, 0.0062],\n",
       "         [0.9516, 0.0753, 0.8860],\n",
       "         [0.5832, 0.3376, 0.8090],\n",
       "         [0.5779, 0.9040, 0.5547],\n",
       "         [0.3423, 0.6343, 0.3644],\n",
       "         [0.7104, 0.9464, 0.7890],\n",
       "         [0.2814, 0.7886, 0.5895],\n",
       "         [0.7539, 0.1952, 0.0050],\n",
       "         [0.3068, 0.1165, 0.9103],\n",
       "         [0.6440, 0.7071, 0.6581],\n",
       "         [0.4913, 0.8913, 0.1447]]),\n",
       " tensor([[0.5315],\n",
       "         [0.1587],\n",
       "         [0.6542],\n",
       "         [0.3278],\n",
       "         [0.6532],\n",
       "         [0.3958],\n",
       "         [0.9147],\n",
       "         [0.2036],\n",
       "         [0.2018],\n",
       "         [0.2018],\n",
       "         [0.9497],\n",
       "         [0.6666],\n",
       "         [0.9811],\n",
       "         [0.0874],\n",
       "         [0.0041],\n",
       "         [0.1088],\n",
       "         [0.1637],\n",
       "         [0.7025],\n",
       "         [0.6790],\n",
       "         [0.9155]]))"
      ]
     },
     "execution_count": 12,
     "metadata": {},
     "output_type": "execute_result"
    }
   ],
   "source": [
    "tensor_dataset = TensorDataset(X, y)\n",
    "\n",
    "tensor_dataset.tensors"
   ]
  },
  {
   "cell_type": "markdown",
   "id": "fe3d290d",
   "metadata": {},
   "source": [
    "## DataLoader\n",
    "\n",
    "- `DataLoader` digunakan untuk menerapkan **batching** dan **shuffle** pada dataset."
   ]
  },
  {
   "cell_type": "code",
   "execution_count": 13,
   "id": "720efbf9",
   "metadata": {
    "ExecuteTime": {
     "end_time": "2022-03-14T02:15:04.916684Z",
     "start_time": "2022-03-14T02:15:04.888981Z"
    }
   },
   "outputs": [
    {
     "data": {
      "text/plain": [
       "[tensor([[0.8694, 0.5677, 0.7411],\n",
       "         [0.7539, 0.1952, 0.0050],\n",
       "         [0.1053, 0.2695, 0.3588],\n",
       "         [0.6440, 0.7071, 0.6581],\n",
       "         [0.2666, 0.6274, 0.2696]]),\n",
       " tensor([[0.6532],\n",
       "         [0.1637],\n",
       "         [0.2018],\n",
       "         [0.6790],\n",
       "         [0.9147]])]"
      ]
     },
     "execution_count": 13,
     "metadata": {},
     "output_type": "execute_result"
    }
   ],
   "source": [
    "dataloader = DataLoader(tensor_dataset, batch_size=5, shuffle=True)\n",
    "next(iter(dataloader))"
   ]
  },
  {
   "cell_type": "markdown",
   "id": "4d124830",
   "metadata": {},
   "source": [
    "## Model"
   ]
  },
  {
   "cell_type": "code",
   "execution_count": 18,
   "id": "66879719",
   "metadata": {
    "ExecuteTime": {
     "end_time": "2022-03-14T02:16:09.766552Z",
     "start_time": "2022-03-14T02:16:09.758512Z"
    }
   },
   "outputs": [
    {
     "data": {
      "text/plain": [
       "Sequential(\n",
       "  (0): Linear(in_features=4, out_features=4, bias=True)\n",
       "  (1): ReLU()\n",
       "  (2): Linear(in_features=2, out_features=1, bias=True)\n",
       "  (3): Sigmoid()\n",
       ")"
      ]
     },
     "execution_count": 18,
     "metadata": {},
     "output_type": "execute_result"
    }
   ],
   "source": [
    "model = nn.Sequential(\n",
    "            # layer 1 (4 neurons) to layer 2 (2 neurons) with ReLU\n",
    "            nn.Linear(4, 2),\n",
    "            nn.ReLU(),\n",
    "            \n",
    "            # layer 2 (2 neurons) to layer 3 (1 neurons) with Sigmoid\n",
    "            nn.Linear(2, 1),\n",
    "            nn.Sigmoid(),\n",
    "        )\n",
    "\n",
    "model"
   ]
  },
  {
   "cell_type": "markdown",
   "id": "4232b8b7",
   "metadata": {},
   "source": [
    "## Loss Function"
   ]
  },
  {
   "cell_type": "code",
   "execution_count": 19,
   "id": "49c5de3e",
   "metadata": {
    "ExecuteTime": {
     "end_time": "2022-03-14T02:16:11.616896Z",
     "start_time": "2022-03-14T02:16:11.588632Z"
    }
   },
   "outputs": [
    {
     "data": {
      "text/plain": [
       "MSELoss()"
      ]
     },
     "execution_count": 19,
     "metadata": {},
     "output_type": "execute_result"
    }
   ],
   "source": [
    "mse_loss = nn.MSELoss()\n",
    "\n",
    "mse_loss"
   ]
  },
  {
   "cell_type": "markdown",
   "id": "2b197bf1",
   "metadata": {},
   "source": [
    "## Optimizer"
   ]
  },
  {
   "cell_type": "code",
   "execution_count": 20,
   "id": "45de9bdc",
   "metadata": {
    "ExecuteTime": {
     "end_time": "2022-03-14T02:16:11.826390Z",
     "start_time": "2022-03-14T02:16:11.817095Z"
    }
   },
   "outputs": [
    {
     "data": {
      "text/plain": [
       "SGD (\n",
       "Parameter Group 0\n",
       "    dampening: 0\n",
       "    lr: 1\n",
       "    maximize: False\n",
       "    momentum: 0\n",
       "    nesterov: False\n",
       "    weight_decay: 0\n",
       ")"
      ]
     },
     "execution_count": 20,
     "metadata": {},
     "output_type": "execute_result"
    }
   ],
   "source": [
    "sgd_optimizer = optim.SGD(model.parameters(), lr=1)\n",
    "\n",
    "sgd_optimizer"
   ]
  },
  {
   "cell_type": "markdown",
   "id": "151ea856",
   "metadata": {},
   "source": [
    "## Loop Function"
   ]
  },
  {
   "cell_type": "code",
   "execution_count": 21,
   "id": "d8a8b9fc",
   "metadata": {
    "ExecuteTime": {
     "end_time": "2022-03-14T02:16:13.616371Z",
     "start_time": "2022-03-14T02:16:13.531471Z"
    }
   },
   "outputs": [
    {
     "name": "stdout",
     "output_type": "stream",
     "text": [
      "Epoch 1\n"
     ]
    },
    {
     "ename": "RuntimeError",
     "evalue": "mat1 and mat2 shapes cannot be multiplied (5x3 and 4x4)",
     "output_type": "error",
     "traceback": [
      "\u001b[1;31m---------------------------------------------------------------------------\u001b[0m",
      "\u001b[1;31mRuntimeError\u001b[0m                              Traceback (most recent call last)",
      "Input \u001b[1;32mIn [21]\u001b[0m, in \u001b[0;36m<cell line: 35>\u001b[1;34m()\u001b[0m\n\u001b[0;32m     35\u001b[0m \u001b[38;5;28;01mfor\u001b[39;00m epoch \u001b[38;5;129;01min\u001b[39;00m \u001b[38;5;28mrange\u001b[39m(epochs):\n\u001b[0;32m     36\u001b[0m     \u001b[38;5;28mprint\u001b[39m(\u001b[38;5;124mf\u001b[39m\u001b[38;5;124m\"\u001b[39m\u001b[38;5;124mEpoch \u001b[39m\u001b[38;5;132;01m{\u001b[39;00mepoch \u001b[38;5;241m+\u001b[39m \u001b[38;5;241m1\u001b[39m\u001b[38;5;132;01m}\u001b[39;00m\u001b[38;5;124m\"\u001b[39m)\n\u001b[1;32m---> 37\u001b[0m     \u001b[43mloop_fn\u001b[49m\u001b[43m(\u001b[49m\u001b[43mdataloader\u001b[49m\u001b[43m,\u001b[49m\u001b[43m \u001b[49m\u001b[43mmodel\u001b[49m\u001b[43m,\u001b[49m\u001b[43m \u001b[49m\u001b[43mmse_loss\u001b[49m\u001b[43m,\u001b[49m\u001b[43m \u001b[49m\u001b[43msgd_optimizer\u001b[49m\u001b[43m)\u001b[49m\n\u001b[0;32m     38\u001b[0m     \u001b[38;5;28mprint\u001b[39m(\u001b[38;5;124m\"\u001b[39m\u001b[38;5;124m-\u001b[39m\u001b[38;5;124m\"\u001b[39m \u001b[38;5;241m*\u001b[39m \u001b[38;5;241m60\u001b[39m, end\u001b[38;5;241m=\u001b[39m\u001b[38;5;124m\"\u001b[39m\u001b[38;5;130;01m\\n\u001b[39;00m\u001b[38;5;130;01m\\n\u001b[39;00m\u001b[38;5;124m\"\u001b[39m)\n\u001b[0;32m     39\u001b[0m \u001b[38;5;28mprint\u001b[39m(\u001b[38;5;124m\"\u001b[39m\u001b[38;5;124mDone!\u001b[39m\u001b[38;5;124m\"\u001b[39m)\n",
      "Input \u001b[1;32mIn [21]\u001b[0m, in \u001b[0;36mloop_fn\u001b[1;34m(dataloader, model, loss_fn, optimizer)\u001b[0m\n\u001b[0;32m      4\u001b[0m r2_score_batches \u001b[38;5;241m=\u001b[39m []\n\u001b[0;32m      6\u001b[0m \u001b[38;5;28;01mfor\u001b[39;00m batch, (X, y) \u001b[38;5;129;01min\u001b[39;00m \u001b[38;5;28menumerate\u001b[39m(dataloader):\n\u001b[0;32m      7\u001b[0m     \u001b[38;5;66;03m# Forward Propagation\u001b[39;00m\n\u001b[1;32m----> 8\u001b[0m     pred \u001b[38;5;241m=\u001b[39m \u001b[43mmodel\u001b[49m\u001b[43m(\u001b[49m\u001b[43mX\u001b[49m\u001b[43m)\u001b[49m\n\u001b[0;32m      9\u001b[0m     loss \u001b[38;5;241m=\u001b[39m loss_fn(pred, y)\n\u001b[0;32m     10\u001b[0m     r_square \u001b[38;5;241m=\u001b[39m r2_score(pred, y)\n",
      "File \u001b[1;32m~\\.conda\\envs\\dl_with_me\\lib\\site-packages\\torch\\nn\\modules\\module.py:1110\u001b[0m, in \u001b[0;36mModule._call_impl\u001b[1;34m(self, *input, **kwargs)\u001b[0m\n\u001b[0;32m   1106\u001b[0m \u001b[38;5;66;03m# If we don't have any hooks, we want to skip the rest of the logic in\u001b[39;00m\n\u001b[0;32m   1107\u001b[0m \u001b[38;5;66;03m# this function, and just call forward.\u001b[39;00m\n\u001b[0;32m   1108\u001b[0m \u001b[38;5;28;01mif\u001b[39;00m \u001b[38;5;129;01mnot\u001b[39;00m (\u001b[38;5;28mself\u001b[39m\u001b[38;5;241m.\u001b[39m_backward_hooks \u001b[38;5;129;01mor\u001b[39;00m \u001b[38;5;28mself\u001b[39m\u001b[38;5;241m.\u001b[39m_forward_hooks \u001b[38;5;129;01mor\u001b[39;00m \u001b[38;5;28mself\u001b[39m\u001b[38;5;241m.\u001b[39m_forward_pre_hooks \u001b[38;5;129;01mor\u001b[39;00m _global_backward_hooks\n\u001b[0;32m   1109\u001b[0m         \u001b[38;5;129;01mor\u001b[39;00m _global_forward_hooks \u001b[38;5;129;01mor\u001b[39;00m _global_forward_pre_hooks):\n\u001b[1;32m-> 1110\u001b[0m     \u001b[38;5;28;01mreturn\u001b[39;00m forward_call(\u001b[38;5;241m*\u001b[39m\u001b[38;5;28minput\u001b[39m, \u001b[38;5;241m*\u001b[39m\u001b[38;5;241m*\u001b[39mkwargs)\n\u001b[0;32m   1111\u001b[0m \u001b[38;5;66;03m# Do not call functions when jit is used\u001b[39;00m\n\u001b[0;32m   1112\u001b[0m full_backward_hooks, non_full_backward_hooks \u001b[38;5;241m=\u001b[39m [], []\n",
      "File \u001b[1;32m~\\.conda\\envs\\dl_with_me\\lib\\site-packages\\torch\\nn\\modules\\container.py:141\u001b[0m, in \u001b[0;36mSequential.forward\u001b[1;34m(self, input)\u001b[0m\n\u001b[0;32m    139\u001b[0m \u001b[38;5;28;01mdef\u001b[39;00m \u001b[38;5;21mforward\u001b[39m(\u001b[38;5;28mself\u001b[39m, \u001b[38;5;28minput\u001b[39m):\n\u001b[0;32m    140\u001b[0m     \u001b[38;5;28;01mfor\u001b[39;00m module \u001b[38;5;129;01min\u001b[39;00m \u001b[38;5;28mself\u001b[39m:\n\u001b[1;32m--> 141\u001b[0m         \u001b[38;5;28minput\u001b[39m \u001b[38;5;241m=\u001b[39m \u001b[43mmodule\u001b[49m\u001b[43m(\u001b[49m\u001b[38;5;28;43minput\u001b[39;49m\u001b[43m)\u001b[49m\n\u001b[0;32m    142\u001b[0m     \u001b[38;5;28;01mreturn\u001b[39;00m \u001b[38;5;28minput\u001b[39m\n",
      "File \u001b[1;32m~\\.conda\\envs\\dl_with_me\\lib\\site-packages\\torch\\nn\\modules\\module.py:1110\u001b[0m, in \u001b[0;36mModule._call_impl\u001b[1;34m(self, *input, **kwargs)\u001b[0m\n\u001b[0;32m   1106\u001b[0m \u001b[38;5;66;03m# If we don't have any hooks, we want to skip the rest of the logic in\u001b[39;00m\n\u001b[0;32m   1107\u001b[0m \u001b[38;5;66;03m# this function, and just call forward.\u001b[39;00m\n\u001b[0;32m   1108\u001b[0m \u001b[38;5;28;01mif\u001b[39;00m \u001b[38;5;129;01mnot\u001b[39;00m (\u001b[38;5;28mself\u001b[39m\u001b[38;5;241m.\u001b[39m_backward_hooks \u001b[38;5;129;01mor\u001b[39;00m \u001b[38;5;28mself\u001b[39m\u001b[38;5;241m.\u001b[39m_forward_hooks \u001b[38;5;129;01mor\u001b[39;00m \u001b[38;5;28mself\u001b[39m\u001b[38;5;241m.\u001b[39m_forward_pre_hooks \u001b[38;5;129;01mor\u001b[39;00m _global_backward_hooks\n\u001b[0;32m   1109\u001b[0m         \u001b[38;5;129;01mor\u001b[39;00m _global_forward_hooks \u001b[38;5;129;01mor\u001b[39;00m _global_forward_pre_hooks):\n\u001b[1;32m-> 1110\u001b[0m     \u001b[38;5;28;01mreturn\u001b[39;00m forward_call(\u001b[38;5;241m*\u001b[39m\u001b[38;5;28minput\u001b[39m, \u001b[38;5;241m*\u001b[39m\u001b[38;5;241m*\u001b[39mkwargs)\n\u001b[0;32m   1111\u001b[0m \u001b[38;5;66;03m# Do not call functions when jit is used\u001b[39;00m\n\u001b[0;32m   1112\u001b[0m full_backward_hooks, non_full_backward_hooks \u001b[38;5;241m=\u001b[39m [], []\n",
      "File \u001b[1;32m~\\.conda\\envs\\dl_with_me\\lib\\site-packages\\torch\\nn\\modules\\linear.py:103\u001b[0m, in \u001b[0;36mLinear.forward\u001b[1;34m(self, input)\u001b[0m\n\u001b[0;32m    102\u001b[0m \u001b[38;5;28;01mdef\u001b[39;00m \u001b[38;5;21mforward\u001b[39m(\u001b[38;5;28mself\u001b[39m, \u001b[38;5;28minput\u001b[39m: Tensor) \u001b[38;5;241m-\u001b[39m\u001b[38;5;241m>\u001b[39m Tensor:\n\u001b[1;32m--> 103\u001b[0m     \u001b[38;5;28;01mreturn\u001b[39;00m \u001b[43mF\u001b[49m\u001b[38;5;241;43m.\u001b[39;49m\u001b[43mlinear\u001b[49m\u001b[43m(\u001b[49m\u001b[38;5;28;43minput\u001b[39;49m\u001b[43m,\u001b[49m\u001b[43m \u001b[49m\u001b[38;5;28;43mself\u001b[39;49m\u001b[38;5;241;43m.\u001b[39;49m\u001b[43mweight\u001b[49m\u001b[43m,\u001b[49m\u001b[43m \u001b[49m\u001b[38;5;28;43mself\u001b[39;49m\u001b[38;5;241;43m.\u001b[39;49m\u001b[43mbias\u001b[49m\u001b[43m)\u001b[49m\n",
      "\u001b[1;31mRuntimeError\u001b[0m: mat1 and mat2 shapes cannot be multiplied (5x3 and 4x4)"
     ]
    }
   ],
   "source": [
    "def loop_fn(dataloader, model, loss_fn, optimizer):\n",
    "    size = len(dataloader.dataset)\n",
    "    loss_batches = []\n",
    "    r2_score_batches = []\n",
    "    \n",
    "    for batch, (X, y) in enumerate(dataloader):\n",
    "        # Forward Propagation\n",
    "        pred = model(X)\n",
    "        loss = loss_fn(pred, y)\n",
    "        r_square = r2_score(pred, y)\n",
    "        \n",
    "        # Backpropagation\n",
    "        optimizer.zero_grad()\n",
    "        loss.backward()\n",
    "        optimizer.step()\n",
    "        \n",
    "        # Calculate loss each batch\n",
    "        loss = loss.item()\n",
    "        loss_batches.append(loss)\n",
    "        \n",
    "        # Calculate r-square each batch\n",
    "        r_square = r_square.item()\n",
    "        r2_score_batches.append(r_square)\n",
    "        \n",
    "        current_batch = (batch + 1) * len(X)\n",
    "        \n",
    "        # Show Log\n",
    "        print(f\"batch {batch + 1}: [{current_batch:>3d}/{size:>3d}] | r2-score: {r_square:>8f} | loss: {loss:>7f}\")\n",
    "    print(f\"R2 score  : {sum(r2_score_batches) / len(r2_score_batches)}\")\n",
    "    print(f\"RMSE loss : {(sum(loss_batches) / len(loss_batches))**0.5}\")\n",
    "    \n",
    "# Run Loop Function\n",
    "epochs = 5\n",
    "\n",
    "for epoch in range(epochs):\n",
    "    print(f\"Epoch {epoch + 1}\")\n",
    "    loop_fn(dataloader, model, mse_loss, sgd_optimizer)\n",
    "    print(\"-\" * 60, end=\"\\n\\n\")\n",
    "print(\"Done!\")"
   ]
  },
  {
   "cell_type": "code",
   "execution_count": null,
   "id": "f041430a",
   "metadata": {},
   "outputs": [],
   "source": []
  }
 ],
 "metadata": {
  "kernelspec": {
   "display_name": "Python 3 (ipykernel)",
   "language": "python",
   "name": "python3"
  },
  "language_info": {
   "codemirror_mode": {
    "name": "ipython",
    "version": 3
   },
   "file_extension": ".py",
   "mimetype": "text/x-python",
   "name": "python",
   "nbconvert_exporter": "python",
   "pygments_lexer": "ipython3",
   "version": "3.9.7"
  },
  "nbTranslate": {
   "displayLangs": [
    "*"
   ],
   "hotkey": "alt-t",
   "langInMainMenu": true,
   "sourceLang": "en",
   "targetLang": "fr",
   "useGoogleTranslate": true
  },
  "toc": {
   "base_numbering": 1,
   "nav_menu": {},
   "number_sections": true,
   "sideBar": true,
   "skip_h1_title": false,
   "title_cell": "Table of Contents",
   "title_sidebar": "Contents",
   "toc_cell": false,
   "toc_position": {},
   "toc_section_display": true,
   "toc_window_display": false
  }
 },
 "nbformat": 4,
 "nbformat_minor": 5
}
