{
 "cells": [
  {
   "cell_type": "markdown",
   "id": "dcf7b842",
   "metadata": {},
   "source": [
    "# Import Modules"
   ]
  },
  {
   "cell_type": "code",
   "execution_count": 1,
   "id": "50793729",
   "metadata": {
    "ExecuteTime": {
     "end_time": "2022-03-12T13:03:59.070404Z",
     "start_time": "2022-03-12T13:03:57.534644Z"
    }
   },
   "outputs": [],
   "source": [
    "import torch"
   ]
  },
  {
   "cell_type": "markdown",
   "id": "e965c459",
   "metadata": {},
   "source": [
    "# Automatic Differentiation\n",
    "\n",
    "- Saat pelatihan model, akan dilakukan tahapan backpropagation. Backpropagation adalah proses memperbaharui nilai dari bobot dan bias agar loss yang dihasilkan dari pelatihan semakin kecil. Backpropagation menggunakan turunan berantai untuk.\n",
    "- Pada Pytorch telah disediakan cara untuk melakukan turunan berantai secara otomatis yang dikenal dengan `autograd`."
   ]
  },
  {
   "cell_type": "markdown",
   "id": "dda2a31d",
   "metadata": {},
   "source": [
    "<img src=\"../images/comp-graph.png\" width=\"600\">"
   ]
  },
  {
   "cell_type": "markdown",
   "id": "05c89e86",
   "metadata": {},
   "source": [
    "## Example"
   ]
  },
  {
   "cell_type": "code",
   "execution_count": 2,
   "id": "26eb87b3",
   "metadata": {
    "ExecuteTime": {
     "end_time": "2022-03-12T13:03:59.123855Z",
     "start_time": "2022-03-12T13:03:59.070404Z"
    }
   },
   "outputs": [
    {
     "name": "stdout",
     "output_type": "stream",
     "text": [
      "MSE Loss: 9.860929489135742\n"
     ]
    }
   ],
   "source": [
    "torch.manual_seed(42)\n",
    "\n",
    "X = torch.ones(size=(5, )) # features\n",
    "y = torch.zeros(size=(3, )) # target\n",
    "weight = torch.randn(size=(5, 3), requires_grad=True)\n",
    "bias = torch.randn(size=(3, ), requires_grad=True)\n",
    "\n",
    "z = torch.matmul(X, weight) + bias # pred\n",
    "loss = torch.nn.functional.mse_loss(z, y)\n",
    "print(f\"MSE Loss: {loss.item()}\")"
   ]
  },
  {
   "cell_type": "markdown",
   "id": "8e59dab3",
   "metadata": {},
   "source": [
    "### Before `autograd`"
   ]
  },
  {
   "cell_type": "code",
   "execution_count": 3,
   "id": "4a27fa59",
   "metadata": {
    "ExecuteTime": {
     "end_time": "2022-03-12T13:03:59.154998Z",
     "start_time": "2022-03-12T13:03:59.123855Z"
    }
   },
   "outputs": [
    {
     "name": "stdout",
     "output_type": "stream",
     "text": [
      "weight:\n",
      "tensor([[ 0.3367,  0.1288,  0.2345],\n",
      "        [ 0.2303, -1.1229, -0.1863],\n",
      "        [ 2.2082, -0.6380,  0.4617],\n",
      "        [ 0.2674,  0.5349,  0.8094],\n",
      "        [ 1.1103, -1.6898, -0.9890]], requires_grad=True)\n",
      "\n",
      "bias:\n",
      "tensor([0.9580, 1.3221, 0.8172], requires_grad=True)\n"
     ]
    }
   ],
   "source": [
    "print(f\"weight:\\n{weight}\\n\")\n",
    "print(f\"bias:\\n{bias}\")"
   ]
  },
  {
   "cell_type": "markdown",
   "id": "e5f1ea5c",
   "metadata": {
    "ExecuteTime": {
     "end_time": "2022-03-12T09:29:13.917979Z",
     "start_time": "2022-03-12T09:29:13.905381Z"
    }
   },
   "source": [
    "### After `autograd`"
   ]
  },
  {
   "cell_type": "code",
   "execution_count": 4,
   "id": "0d3853fd",
   "metadata": {
    "ExecuteTime": {
     "end_time": "2022-03-12T13:03:59.424604Z",
     "start_time": "2022-03-12T13:03:59.154998Z"
    }
   },
   "outputs": [
    {
     "name": "stdout",
     "output_type": "stream",
     "text": [
      "weight:\n",
      "tensor([[ 3.4072, -0.9765,  0.7649],\n",
      "        [ 3.4072, -0.9765,  0.7649],\n",
      "        [ 3.4072, -0.9765,  0.7649],\n",
      "        [ 3.4072, -0.9765,  0.7649],\n",
      "        [ 3.4072, -0.9765,  0.7649]])\n",
      "\n",
      "bias:\n",
      "tensor([ 3.4072, -0.9765,  0.7649])\n"
     ]
    }
   ],
   "source": [
    "loss.backward()\n",
    "weight_grad = weight.grad\n",
    "bias_grad = bias.grad\n",
    "\n",
    "print(f\"weight:\\n{weight_grad}\\n\")\n",
    "print(f\"bias:\\n{bias_grad}\")"
   ]
  },
  {
   "cell_type": "markdown",
   "id": "0fe94e4f",
   "metadata": {},
   "source": [
    "# Gradients Tensor Gradients and Jacobian Product "
   ]
  },
  {
   "cell_type": "code",
   "execution_count": 5,
   "id": "99834350",
   "metadata": {
    "ExecuteTime": {
     "end_time": "2022-03-12T13:03:59.455884Z",
     "start_time": "2022-03-12T13:03:59.424604Z"
    }
   },
   "outputs": [
    {
     "data": {
      "text/plain": [
       "tensor([[1., 0., 0., 0., 0.],\n",
       "        [0., 1., 0., 0., 0.],\n",
       "        [0., 0., 1., 0., 0.],\n",
       "        [0., 0., 0., 1., 0.],\n",
       "        [0., 0., 0., 0., 1.]], requires_grad=True)"
      ]
     },
     "execution_count": 5,
     "metadata": {},
     "output_type": "execute_result"
    }
   ],
   "source": [
    "inp = torch.eye(5, requires_grad=True)\n",
    "out = (inp + 1).pow(2)\n",
    "inp"
   ]
  },
  {
   "cell_type": "code",
   "execution_count": 6,
   "id": "06d40dc1",
   "metadata": {
    "ExecuteTime": {
     "end_time": "2022-03-12T13:03:59.471513Z",
     "start_time": "2022-03-12T13:03:59.455884Z"
    }
   },
   "outputs": [
    {
     "name": "stdout",
     "output_type": "stream",
     "text": [
      "First call\n",
      "tensor([[4., 2., 2., 2., 2.],\n",
      "        [2., 4., 2., 2., 2.],\n",
      "        [2., 2., 4., 2., 2.],\n",
      "        [2., 2., 2., 4., 2.],\n",
      "        [2., 2., 2., 2., 4.]])\n"
     ]
    }
   ],
   "source": [
    "# First Differentitation\n",
    "out.backward(torch.ones_like(inp), retain_graph=True)\n",
    "print(f\"First call\\n{inp.grad}\")"
   ]
  },
  {
   "cell_type": "code",
   "execution_count": 7,
   "id": "ca143961",
   "metadata": {
    "ExecuteTime": {
     "end_time": "2022-03-12T13:03:59.487135Z",
     "start_time": "2022-03-12T13:03:59.471513Z"
    }
   },
   "outputs": [
    {
     "name": "stdout",
     "output_type": "stream",
     "text": [
      "Second call\n",
      "tensor([[8., 4., 4., 4., 4.],\n",
      "        [4., 8., 4., 4., 4.],\n",
      "        [4., 4., 8., 4., 4.],\n",
      "        [4., 4., 4., 8., 4.],\n",
      "        [4., 4., 4., 4., 8.]])\n"
     ]
    }
   ],
   "source": [
    "# Second Differentitation\n",
    "out.backward(torch.ones_like(inp), retain_graph=True)\n",
    "print(f\"Second call\\n{inp.grad}\")"
   ]
  },
  {
   "cell_type": "code",
   "execution_count": 8,
   "id": "398e42c8",
   "metadata": {
    "ExecuteTime": {
     "end_time": "2022-03-12T13:03:59.509307Z",
     "start_time": "2022-03-12T13:03:59.487135Z"
    }
   },
   "outputs": [
    {
     "name": "stdout",
     "output_type": "stream",
     "text": [
      "Third call\n",
      "tensor([[4., 2., 2., 2., 2.],\n",
      "        [2., 4., 2., 2., 2.],\n",
      "        [2., 2., 4., 2., 2.],\n",
      "        [2., 2., 2., 4., 2.],\n",
      "        [2., 2., 2., 2., 4.]])\n"
     ]
    }
   ],
   "source": [
    "# Third Differentitation\n",
    "inp.grad.zero_()\n",
    "out.backward(torch.ones_like(inp), retain_graph=True)\n",
    "print(f\"Third call\\n{inp.grad}\")"
   ]
  },
  {
   "cell_type": "code",
   "execution_count": null,
   "id": "bf0cc7a1",
   "metadata": {},
   "outputs": [],
   "source": []
  }
 ],
 "metadata": {
  "kernelspec": {
   "display_name": "Python 3",
   "language": "python",
   "name": "python3"
  },
  "language_info": {
   "codemirror_mode": {
    "name": "ipython",
    "version": 3
   },
   "file_extension": ".py",
   "mimetype": "text/x-python",
   "name": "python",
   "nbconvert_exporter": "python",
   "pygments_lexer": "ipython3",
   "version": "3.8.8"
  },
  "nbTranslate": {
   "displayLangs": [
    "*"
   ],
   "hotkey": "alt-t",
   "langInMainMenu": true,
   "sourceLang": "en",
   "targetLang": "fr",
   "useGoogleTranslate": true
  },
  "toc": {
   "base_numbering": 1,
   "nav_menu": {},
   "number_sections": true,
   "sideBar": true,
   "skip_h1_title": false,
   "title_cell": "Table of Contents",
   "title_sidebar": "Contents",
   "toc_cell": false,
   "toc_position": {},
   "toc_section_display": true,
   "toc_window_display": false
  }
 },
 "nbformat": 4,
 "nbformat_minor": 5
}
