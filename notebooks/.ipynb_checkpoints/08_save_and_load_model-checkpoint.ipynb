{
 "cells": [
  {
   "cell_type": "markdown",
   "id": "3432e802",
   "metadata": {
    "slideshow": {
     "slide_type": "slide"
    }
   },
   "source": [
    "# Save and Load Model\n",
    "\n",
    "- Setelah melakukan proses training, model yang akan ditraining akan digunakan di production.\n",
    "- Untuk dapat menggunakan model yang terlatih perlu disimpan.\n",
    "- Sebenarnya yang disimpan adalah parameter weight (bobot) dan bias yang telah dilatih beserta arsitektur deep learning."
   ]
  },
  {
   "cell_type": "markdown",
   "id": "324e9e31",
   "metadata": {
    "slideshow": {
     "slide_type": "slide"
    }
   },
   "source": [
    "# Training Model"
   ]
  },
  {
   "cell_type": "code",
   "execution_count": 1,
   "id": "78fa43cb",
   "metadata": {
    "ExecuteTime": {
     "end_time": "2022-03-14T03:07:50.430300Z",
     "start_time": "2022-03-14T03:07:46.135345Z"
    }
   },
   "outputs": [
    {
     "name": "stderr",
     "output_type": "stream",
     "text": [
      "C:\\Users\\62821\\.conda\\envs\\dl_with_me\\lib\\site-packages\\tqdm\\auto.py:22: TqdmWarning: IProgress not found. Please update jupyter and ipywidgets. See https://ipywidgets.readthedocs.io/en/stable/user_install.html\n",
      "  from .autonotebook import tqdm as notebook_tqdm\n"
     ]
    }
   ],
   "source": [
    "# Import modules\n",
    "import torch\n",
    "\n",
    "from torch import nn, optim\n",
    "from torch.utils.data import DataLoader, TensorDataset\n",
    "from torchmetrics.functional import r2_score\n",
    "\n",
    "# Create dummy dataset\n",
    "torch.manual_seed(42)\n",
    "\n",
    "X = torch.rand(size=(20, 4))\n",
    "y = torch.rand(size=(20, 1))\n",
    "\n",
    "# TensorDataset and DataLoader\n",
    "tensor_dataset = TensorDataset(X, y)\n",
    "dataloader = DataLoader(tensor_dataset, batch_size=5, shuffle=True)\n",
    "\n",
    "# Build model\n",
    "model = nn.Sequential(\n",
    "            # layer 1 (4 neurons) to layer 2 (2 neurons) with ReLU\n",
    "            nn.Linear(4, 2),\n",
    "            nn.ReLU(),\n",
    "            \n",
    "            # layer 2 (2 neurons) to layer 3 (1 neurons) with Sigmoid\n",
    "            nn.Linear(2, 1),\n",
    "            nn.Sigmoid(),\n",
    "        )\n",
    "\n",
    "# Loss function\n",
    "mse_loss = nn.MSELoss()\n",
    "\n",
    "# Optimizer\n",
    "sgd_optimizer = optim.SGD(model.parameters(), lr=1)"
   ]
  },
  {
   "cell_type": "code",
   "execution_count": 2,
   "id": "7a0f8401",
   "metadata": {
    "ExecuteTime": {
     "end_time": "2022-03-14T03:07:50.508862Z",
     "start_time": "2022-03-14T03:07:50.439733Z"
    }
   },
   "outputs": [
    {
     "name": "stdout",
     "output_type": "stream",
     "text": [
      "Weight and bias before training:\n"
     ]
    },
    {
     "data": {
      "text/plain": [
       "OrderedDict([('0.weight',\n",
       "              tensor([[-0.2863,  0.1249, -0.0660, -0.3629],\n",
       "                      [ 0.0117, -0.3415, -0.4242, -0.2753]])),\n",
       "             ('0.bias', tensor([-0.4376, -0.3184])),\n",
       "             ('2.weight', tensor([[0.7068, 0.1336]])),\n",
       "             ('2.bias', tensor([0.2179]))])"
      ]
     },
     "execution_count": 2,
     "metadata": {},
     "output_type": "execute_result"
    }
   ],
   "source": [
    "print(f\"Weight and bias before training:\")\n",
    "model.state_dict()"
   ]
  },
  {
   "cell_type": "code",
   "execution_count": 3,
   "id": "ccbbd878",
   "metadata": {
    "ExecuteTime": {
     "end_time": "2022-03-14T03:07:50.710621Z",
     "start_time": "2022-03-14T03:07:50.519054Z"
    }
   },
   "outputs": [
    {
     "name": "stdout",
     "output_type": "stream",
     "text": [
      "Epoch 1\n",
      "batch 1: [  5/ 20] | r2-score: -0.019303 | loss: 0.074205\n",
      "batch 2: [ 10/ 20] | r2-score: -0.073548 | loss: 0.053124\n",
      "batch 3: [ 15/ 20] | r2-score: -0.401145 | loss: 0.133158\n",
      "batch 4: [ 20/ 20] | r2-score: -0.039245 | loss: 0.092286\n",
      "R2 score  : -0.1333101987838745\n",
      "RMSE loss : 0.29697352424602613\n",
      "------------------------------------------------------------\n",
      "\n",
      "Epoch 2\n",
      "batch 1: [  5/ 20] | r2-score: -0.000513 | loss: 0.132102\n",
      "batch 2: [ 10/ 20] | r2-score: -1.183042 | loss: 0.059269\n",
      "batch 3: [ 15/ 20] | r2-score: -0.011840 | loss: 0.086634\n",
      "batch 4: [ 20/ 20] | r2-score: -0.053689 | loss: 0.057187\n",
      "R2 score  : -0.3122709095478058\n",
      "RMSE loss : 0.2894786050009086\n",
      "------------------------------------------------------------\n",
      "\n",
      "Epoch 3\n",
      "batch 1: [  5/ 20] | r2-score: -0.039297 | loss: 0.082198\n",
      "batch 2: [ 10/ 20] | r2-score: -0.224498 | loss: 0.069853\n",
      "batch 3: [ 15/ 20] | r2-score: -6.187849 | loss: 0.084863\n",
      "batch 4: [ 20/ 20] | r2-score: -0.122763 | loss: 0.100580\n",
      "R2 score  : -1.6436018645763397\n",
      "RMSE loss : 0.2904711660999775\n",
      "------------------------------------------------------------\n",
      "\n",
      "Epoch 4\n",
      "batch 1: [  5/ 20] | r2-score: -0.017987 | loss: 0.123370\n",
      "batch 2: [ 10/ 20] | r2-score: -10.139772 | loss: 0.054487\n",
      "batch 3: [ 15/ 20] | r2-score: -0.031105 | loss: 0.098180\n",
      "batch 4: [ 20/ 20] | r2-score: -0.106920 | loss: 0.054768\n",
      "R2 score  : -2.573945999145508\n",
      "RMSE loss : 0.2875786970977979\n",
      "------------------------------------------------------------\n",
      "\n",
      "Epoch 5\n",
      "batch 1: [  5/ 20] | r2-score: -0.000935 | loss: 0.049264\n",
      "batch 2: [ 10/ 20] | r2-score: -0.000001 | loss: 0.085149\n",
      "batch 3: [ 15/ 20] | r2-score: -0.022310 | loss: 0.091173\n",
      "batch 4: [ 20/ 20] | r2-score: -0.000198 | loss: 0.097891\n",
      "R2 score  : -0.005860835313796997\n",
      "RMSE loss : 0.28437558530390944\n",
      "------------------------------------------------------------\n",
      "\n",
      "Done!\n"
     ]
    }
   ],
   "source": [
    "# Loop function\n",
    "def loop_fn(dataloader, model, loss_fn, optimizer):\n",
    "    size = len(dataloader.dataset)\n",
    "    loss_batches = []\n",
    "    r2_score_batches = []\n",
    "    \n",
    "    for batch, (X, y) in enumerate(dataloader):\n",
    "        # Forward Propagation\n",
    "        pred = model(X)\n",
    "        loss = loss_fn(pred, y)\n",
    "        r_square = r2_score(pred, y)\n",
    "        \n",
    "        # Backpropagation\n",
    "        optimizer.zero_grad()\n",
    "        loss.backward()\n",
    "        optimizer.step()\n",
    "        \n",
    "        # Calculate loss each batch\n",
    "        loss = loss.item()\n",
    "        loss_batches.append(loss)\n",
    "        \n",
    "        # Calculate r-square each batch\n",
    "        r_square = r_square.item()\n",
    "        r2_score_batches.append(r_square)\n",
    "        \n",
    "        current_batch = (batch + 1) * len(X)\n",
    "        \n",
    "        # Show Log\n",
    "        print(f\"batch {batch + 1}: [{current_batch:>3d}/{size:>3d}] | r2-score: {r_square:>8f} | loss: {loss:>7f}\")\n",
    "    print(f\"R2 score  : {sum(r2_score_batches) / len(r2_score_batches)}\")\n",
    "    print(f\"RMSE loss : {(sum(loss_batches) / len(loss_batches))**0.5}\")\n",
    "    \n",
    "# Run Loop Function\n",
    "epochs = 5\n",
    "\n",
    "for epoch in range(epochs):\n",
    "    print(f\"Epoch {epoch + 1}\")\n",
    "    loop_fn(dataloader, model, mse_loss, sgd_optimizer)\n",
    "    print(\"-\" * 60, end=\"\\n\\n\")\n",
    "print(\"Done!\")"
   ]
  },
  {
   "cell_type": "code",
   "execution_count": 4,
   "id": "7cb2f371",
   "metadata": {
    "ExecuteTime": {
     "end_time": "2022-03-14T03:07:50.757341Z",
     "start_time": "2022-03-14T03:07:50.721733Z"
    }
   },
   "outputs": [
    {
     "name": "stdout",
     "output_type": "stream",
     "text": [
      "Weight and bias after training:\n"
     ]
    },
    {
     "data": {
      "text/plain": [
       "OrderedDict([('0.weight',\n",
       "              tensor([[-0.2863,  0.1249, -0.0660, -0.3629],\n",
       "                      [ 0.0117, -0.3415, -0.4242, -0.2753]])),\n",
       "             ('0.bias', tensor([-0.4376, -0.3184])),\n",
       "             ('2.weight', tensor([[0.7068, 0.1336]])),\n",
       "             ('2.bias', tensor([-0.1561]))])"
      ]
     },
     "execution_count": 4,
     "metadata": {},
     "output_type": "execute_result"
    }
   ],
   "source": [
    "print(f\"Weight and bias after training:\")\n",
    "model.state_dict()"
   ]
  },
  {
   "cell_type": "markdown",
   "id": "7bc51513",
   "metadata": {
    "slideshow": {
     "slide_type": "slide"
    }
   },
   "source": [
    "# Save model"
   ]
  },
  {
   "cell_type": "code",
   "execution_count": 5,
   "id": "2c505620",
   "metadata": {
    "ExecuteTime": {
     "end_time": "2022-03-14T03:07:50.788785Z",
     "start_time": "2022-03-14T03:07:50.763490Z"
    }
   },
   "outputs": [],
   "source": [
    "torch.save(model.state_dict(), \"../pretrained_model/model.pth\")"
   ]
  },
  {
   "cell_type": "markdown",
   "id": "5948a68b",
   "metadata": {
    "slideshow": {
     "slide_type": "slide"
    }
   },
   "source": [
    "# Load Model"
   ]
  },
  {
   "cell_type": "code",
   "execution_count": 6,
   "id": "eaeec2bc",
   "metadata": {
    "ExecuteTime": {
     "end_time": "2022-03-14T03:07:50.819583Z",
     "start_time": "2022-03-14T03:07:50.793570Z"
    }
   },
   "outputs": [
    {
     "data": {
      "text/plain": [
       "OrderedDict([('0.weight',\n",
       "              tensor([[ 0.3460, -0.1376, -0.1917, -0.4150],\n",
       "                      [-0.4971,  0.1431, -0.1092,  0.1947]])),\n",
       "             ('0.bias', tensor([-0.4103,  0.3712])),\n",
       "             ('2.weight', tensor([[-0.5191, -0.1221]])),\n",
       "             ('2.bias', tensor([0.1477]))])"
      ]
     },
     "execution_count": 6,
     "metadata": {},
     "output_type": "execute_result"
    }
   ],
   "source": [
    "# Load architecture\n",
    "model = nn.Sequential(\n",
    "            # layer 1 (4 neurons) to layer 2 (2 neurons) with ReLU\n",
    "            nn.Linear(4, 2),\n",
    "            nn.ReLU(),\n",
    "            \n",
    "            # layer 2 (2 neurons) to layer 3 (1 neurons) with Sigmoid\n",
    "            nn.Linear(2, 1),\n",
    "            nn.Sigmoid(),\n",
    "        )\n",
    "\n",
    "model.state_dict()"
   ]
  },
  {
   "cell_type": "code",
   "execution_count": 7,
   "id": "3911b5ed",
   "metadata": {
    "ExecuteTime": {
     "end_time": "2022-03-14T03:07:50.866545Z",
     "start_time": "2022-03-14T03:07:50.826762Z"
    }
   },
   "outputs": [
    {
     "data": {
      "text/plain": [
       "OrderedDict([('0.weight',\n",
       "              tensor([[-0.2863,  0.1249, -0.0660, -0.3629],\n",
       "                      [ 0.0117, -0.3415, -0.4242, -0.2753]])),\n",
       "             ('0.bias', tensor([-0.4376, -0.3184])),\n",
       "             ('2.weight', tensor([[0.7068, 0.1336]])),\n",
       "             ('2.bias', tensor([-0.1561]))])"
      ]
     },
     "execution_count": 7,
     "metadata": {},
     "output_type": "execute_result"
    }
   ],
   "source": [
    "# Load pretrained model\n",
    "weight_bias = torch.load(\"../pretrained_model/model.pth\")\n",
    "model.load_state_dict(weight_bias)\n",
    "model.eval()\n",
    "model.state_dict()"
   ]
  },
  {
   "cell_type": "code",
   "execution_count": null,
   "id": "65040c56",
   "metadata": {},
   "outputs": [],
   "source": []
  }
 ],
 "metadata": {
  "celltoolbar": "Slideshow",
  "kernelspec": {
   "display_name": "Python 3 (ipykernel)",
   "language": "python",
   "name": "python3"
  },
  "language_info": {
   "codemirror_mode": {
    "name": "ipython",
    "version": 3
   },
   "file_extension": ".py",
   "mimetype": "text/x-python",
   "name": "python",
   "nbconvert_exporter": "python",
   "pygments_lexer": "ipython3",
   "version": "3.9.7"
  },
  "nbTranslate": {
   "displayLangs": [
    "*"
   ],
   "hotkey": "alt-t",
   "langInMainMenu": true,
   "sourceLang": "en",
   "targetLang": "fr",
   "useGoogleTranslate": true
  },
  "toc": {
   "base_numbering": 1,
   "nav_menu": {},
   "number_sections": true,
   "sideBar": true,
   "skip_h1_title": false,
   "title_cell": "Table of Contents",
   "title_sidebar": "Contents",
   "toc_cell": false,
   "toc_position": {},
   "toc_section_display": true,
   "toc_window_display": false
  }
 },
 "nbformat": 4,
 "nbformat_minor": 5
}
