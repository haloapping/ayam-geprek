{
 "cells": [
  {
   "cell_type": "markdown",
   "id": "1ad192dd",
   "metadata": {},
   "source": [
    "# Import Module"
   ]
  },
  {
   "cell_type": "code",
   "execution_count": 1,
   "id": "c4e4c329",
   "metadata": {
    "ExecuteTime": {
     "end_time": "2022-03-12T01:56:45.650964Z",
     "start_time": "2022-03-12T01:56:44.841562Z"
    },
    "run_control": {
     "marked": false
    }
   },
   "outputs": [],
   "source": [
    "import numpy as np\n",
    "import torch"
   ]
  },
  {
   "cell_type": "markdown",
   "id": "57227050",
   "metadata": {},
   "source": [
    "# Tensors"
   ]
  },
  {
   "cell_type": "markdown",
   "id": "658546c7",
   "metadata": {},
   "source": [
    "## Definisi\n",
    "\n",
    "- Tensor adalah struktur data berbentuk array multidimensi yang dapat berjalan pada akselerator peragkat keras, seperti GPU dan TPU.\n",
    "- Secara dasar mirip dengan Numpy array, tapi memiliki kelebihnandapat diproses pada akselerator, seperti GPU dan TPU.\n",
    "- Dioptimalkan untuk diferensiasi otomatis."
   ]
  },
  {
   "cell_type": "markdown",
   "id": "6ff5f9bd",
   "metadata": {},
   "source": [
    "## Inisialisasi"
   ]
  },
  {
   "cell_type": "markdown",
   "id": "c52b00cf",
   "metadata": {
    "ExecuteTime": {
     "end_time": "2022-03-12T01:04:29.485937Z",
     "start_time": "2022-03-12T01:04:29.466005Z"
    }
   },
   "source": [
    "### List Python"
   ]
  },
  {
   "cell_type": "code",
   "execution_count": 2,
   "id": "fc033b50",
   "metadata": {
    "ExecuteTime": {
     "end_time": "2022-03-12T01:56:45.671013Z",
     "start_time": "2022-03-12T01:56:45.651483Z"
    }
   },
   "outputs": [
    {
     "data": {
      "text/plain": [
       "tensor([[1, 3],\n",
       "        [5, 7]])"
      ]
     },
     "execution_count": 2,
     "metadata": {},
     "output_type": "execute_result"
    }
   ],
   "source": [
    "data_list = [[1, 3], [5, 7]]\n",
    "list_tensor = torch.tensor(data_list)\n",
    "\n",
    "list_tensor"
   ]
  },
  {
   "cell_type": "markdown",
   "id": "d9995e1b",
   "metadata": {},
   "source": [
    "### Numpy Array"
   ]
  },
  {
   "cell_type": "code",
   "execution_count": 3,
   "id": "4dbbd37d",
   "metadata": {
    "ExecuteTime": {
     "end_time": "2022-03-12T01:56:45.691250Z",
     "start_time": "2022-03-12T01:56:45.671534Z"
    }
   },
   "outputs": [
    {
     "data": {
      "text/plain": [
       "tensor([[1, 3],\n",
       "        [5, 7]], dtype=torch.int32)"
      ]
     },
     "execution_count": 3,
     "metadata": {},
     "output_type": "execute_result"
    }
   ],
   "source": [
    "data_numpy = np.array([[1, 3], [5, 7]])\n",
    "numpy_tensor = torch.tensor(data_numpy)\n",
    "\n",
    "numpy_tensor"
   ]
  },
  {
   "cell_type": "markdown",
   "id": "8cefc542",
   "metadata": {},
   "source": [
    "### From Another Tensor"
   ]
  },
  {
   "cell_type": "code",
   "execution_count": 4,
   "id": "236cfb7e",
   "metadata": {
    "ExecuteTime": {
     "end_time": "2022-03-12T01:56:45.710884Z",
     "start_time": "2022-03-12T01:56:45.691768Z"
    }
   },
   "outputs": [
    {
     "data": {
      "text/plain": [
       "tensor([[1, 1],\n",
       "        [1, 1]], dtype=torch.int32)"
      ]
     },
     "execution_count": 4,
     "metadata": {},
     "output_type": "execute_result"
    }
   ],
   "source": [
    "x_ones = torch.ones_like(numpy_tensor)\n",
    "x_ones"
   ]
  },
  {
   "cell_type": "code",
   "execution_count": 5,
   "id": "5d09b63b",
   "metadata": {
    "ExecuteTime": {
     "end_time": "2022-03-12T01:56:45.731029Z",
     "start_time": "2022-03-12T01:56:45.712878Z"
    }
   },
   "outputs": [
    {
     "data": {
      "text/plain": [
       "tensor([[0.8574, 0.7484],\n",
       "        [0.9477, 0.1451]])"
      ]
     },
     "execution_count": 5,
     "metadata": {},
     "output_type": "execute_result"
    }
   ],
   "source": [
    "x_rand = torch.rand_like(x_ones, dtype=torch.float)\n",
    "x_rand"
   ]
  },
  {
   "cell_type": "markdown",
   "id": "6e7c56cf",
   "metadata": {
    "ExecuteTime": {
     "end_time": "2022-03-12T01:10:12.439777Z",
     "start_time": "2022-03-12T01:10:12.424186Z"
    }
   },
   "source": [
    "### With random or constant value"
   ]
  },
  {
   "cell_type": "code",
   "execution_count": 6,
   "id": "8602b491",
   "metadata": {
    "ExecuteTime": {
     "end_time": "2022-03-12T01:56:45.746157Z",
     "start_time": "2022-03-12T01:56:45.733102Z"
    }
   },
   "outputs": [],
   "source": [
    "shape = (2, 3)\n",
    "rand_tensor = torch.rand(shape)\n",
    "ones_tensor = torch.ones(shape)\n",
    "zeros_tensor = torch.zeros(shape)"
   ]
  },
  {
   "cell_type": "code",
   "execution_count": 7,
   "id": "74c22ba0",
   "metadata": {
    "ExecuteTime": {
     "end_time": "2022-03-12T01:56:45.761730Z",
     "start_time": "2022-03-12T01:56:45.746157Z"
    }
   },
   "outputs": [
    {
     "data": {
      "text/plain": [
       "tensor([[2.2566e-01, 7.6470e-01, 2.7710e-04],\n",
       "        [8.9522e-02, 9.6760e-01, 3.4859e-01]])"
      ]
     },
     "execution_count": 7,
     "metadata": {},
     "output_type": "execute_result"
    }
   ],
   "source": [
    "rand_tensor"
   ]
  },
  {
   "cell_type": "code",
   "execution_count": 8,
   "id": "6f504adb",
   "metadata": {
    "ExecuteTime": {
     "end_time": "2022-03-12T01:56:45.781258Z",
     "start_time": "2022-03-12T01:56:45.761730Z"
    }
   },
   "outputs": [
    {
     "data": {
      "text/plain": [
       "tensor([[1., 1., 1.],\n",
       "        [1., 1., 1.]])"
      ]
     },
     "execution_count": 8,
     "metadata": {},
     "output_type": "execute_result"
    }
   ],
   "source": [
    "ones_tensor"
   ]
  },
  {
   "cell_type": "code",
   "execution_count": 9,
   "id": "b7bb8a16",
   "metadata": {
    "ExecuteTime": {
     "end_time": "2022-03-12T01:56:45.800821Z",
     "start_time": "2022-03-12T01:56:45.781781Z"
    }
   },
   "outputs": [
    {
     "data": {
      "text/plain": [
       "tensor([[0., 0., 0.],\n",
       "        [0., 0., 0.]])"
      ]
     },
     "execution_count": 9,
     "metadata": {},
     "output_type": "execute_result"
    }
   ],
   "source": [
    "zeros_tensor"
   ]
  },
  {
   "cell_type": "markdown",
   "id": "a7828158",
   "metadata": {},
   "source": [
    "## Tensor Attribute"
   ]
  },
  {
   "cell_type": "code",
   "execution_count": 10,
   "id": "1bfba78a",
   "metadata": {
    "ExecuteTime": {
     "end_time": "2022-03-12T01:56:45.820898Z",
     "start_time": "2022-03-12T01:56:45.801839Z"
    },
    "run_control": {
     "marked": false
    }
   },
   "outputs": [
    {
     "name": "stdout",
     "output_type": "stream",
     "text": [
      "shape    : torch.Size([2, 3])\n",
      "datatype : torch.float32\n",
      "device   : cpu\n"
     ]
    }
   ],
   "source": [
    "tensor = torch.rand((2, 3))\n",
    "\n",
    "print(f\"shape    : {tensor.shape}\")\n",
    "print(f\"datatype : {tensor.dtype}\")\n",
    "print(f\"device   : {tensor.device}\")"
   ]
  },
  {
   "cell_type": "markdown",
   "id": "ef17acf5",
   "metadata": {},
   "source": [
    "## Operation"
   ]
  },
  {
   "cell_type": "markdown",
   "id": "52e0cdf9",
   "metadata": {},
   "source": [
    "# Check device"
   ]
  },
  {
   "cell_type": "code",
   "execution_count": 11,
   "id": "f1cf7f24",
   "metadata": {
    "ExecuteTime": {
     "end_time": "2022-03-12T01:56:46.060851Z",
     "start_time": "2022-03-12T01:56:45.821919Z"
    }
   },
   "outputs": [
    {
     "data": {
      "text/plain": [
       "'cuda'"
      ]
     },
     "execution_count": 11,
     "metadata": {},
     "output_type": "execute_result"
    }
   ],
   "source": [
    "device = \"cuda\" if torch.cuda.is_available() else \"cpu\"\n",
    "device"
   ]
  },
  {
   "cell_type": "markdown",
   "id": "3874549b",
   "metadata": {},
   "source": [
    "## Accessing"
   ]
  },
  {
   "cell_type": "code",
   "execution_count": 12,
   "id": "697cfd29",
   "metadata": {
    "ExecuteTime": {
     "end_time": "2022-03-12T01:56:46.080971Z",
     "start_time": "2022-03-12T01:56:46.061880Z"
    }
   },
   "outputs": [
    {
     "name": "stdout",
     "output_type": "stream",
     "text": [
      "Tensor       : tensor([[0.4094, 0.1479, 0.5321, 0.4419],\n",
      "        [0.2428, 0.4851, 0.3993, 0.1699],\n",
      "        [0.8450, 0.3875, 0.7178, 0.7858],\n",
      "        [0.7315, 0.8624, 0.5436, 0.4030]])\n",
      "First row    : tensor([0.4094, 0.1479, 0.5321, 0.4419])\n",
      "Second row   : tensor([0.2428, 0.4851, 0.3993, 0.1699])\n",
      "Third row    : tensor([0.8450, 0.3875, 0.7178, 0.7858])\n",
      "First column : tensor([0.4094, 0.2428, 0.8450, 0.7315])\n",
      "Last column  : tensor([0.4419, 0.1699, 0.7858, 0.4030])\n"
     ]
    }
   ],
   "source": [
    "tensor = torch.rand((4, 4))\n",
    "print(f\"Tensor       : {tensor}\")\n",
    "print(f\"First row    : {tensor[0]}\")\n",
    "print(f\"Second row   : {tensor[1]}\")\n",
    "print(f\"Third row    : {tensor[2]}\")\n",
    "print(f\"First column : {tensor[:, 0]}\")\n",
    "print(f\"Last column  : {tensor[:, -1]}\")"
   ]
  },
  {
   "cell_type": "markdown",
   "id": "76b0d72e",
   "metadata": {},
   "source": [
    "## Concate Tensor"
   ]
  },
  {
   "cell_type": "code",
   "execution_count": 13,
   "id": "ff10e9ad",
   "metadata": {
    "ExecuteTime": {
     "end_time": "2022-03-12T01:56:46.100960Z",
     "start_time": "2022-03-12T01:56:46.081492Z"
    }
   },
   "outputs": [
    {
     "data": {
      "text/plain": [
       "tensor([[0.4094, 0.1479, 0.5321, 0.4419],\n",
       "        [0.2428, 0.4851, 0.3993, 0.1699],\n",
       "        [0.8450, 0.3875, 0.7178, 0.7858],\n",
       "        [0.7315, 0.8624, 0.5436, 0.4030],\n",
       "        [0.4094, 0.1479, 0.5321, 0.4419],\n",
       "        [0.2428, 0.4851, 0.3993, 0.1699],\n",
       "        [0.8450, 0.3875, 0.7178, 0.7858],\n",
       "        [0.7315, 0.8624, 0.5436, 0.4030]])"
      ]
     },
     "execution_count": 13,
     "metadata": {},
     "output_type": "execute_result"
    }
   ],
   "source": [
    "## Row DDirection\n",
    "concate_tensor = torch.cat([tensor, tensor], dim=0)\n",
    "concate_tensor"
   ]
  },
  {
   "cell_type": "code",
   "execution_count": 14,
   "id": "d0b6e84e",
   "metadata": {
    "ExecuteTime": {
     "end_time": "2022-03-12T01:56:46.120951Z",
     "start_time": "2022-03-12T01:56:46.101992Z"
    }
   },
   "outputs": [
    {
     "data": {
      "text/plain": [
       "tensor([[0.4094, 0.1479, 0.5321, 0.4419, 0.4094, 0.1479, 0.5321, 0.4419],\n",
       "        [0.2428, 0.4851, 0.3993, 0.1699, 0.2428, 0.4851, 0.3993, 0.1699],\n",
       "        [0.8450, 0.3875, 0.7178, 0.7858, 0.8450, 0.3875, 0.7178, 0.7858],\n",
       "        [0.7315, 0.8624, 0.5436, 0.4030, 0.7315, 0.8624, 0.5436, 0.4030]])"
      ]
     },
     "execution_count": 14,
     "metadata": {},
     "output_type": "execute_result"
    }
   ],
   "source": [
    "## Column DDirection\n",
    "concate_tensor = torch.cat([tensor, tensor], dim=1)\n",
    "concate_tensor"
   ]
  },
  {
   "cell_type": "markdown",
   "id": "20c27c39",
   "metadata": {},
   "source": [
    "## Arithmatic"
   ]
  },
  {
   "cell_type": "code",
   "execution_count": 15,
   "id": "89d15565",
   "metadata": {
    "ExecuteTime": {
     "end_time": "2022-03-12T01:56:46.141143Z",
     "start_time": "2022-03-12T01:56:46.121973Z"
    }
   },
   "outputs": [
    {
     "data": {
      "text/plain": [
       "tensor([[0, 1, 2],\n",
       "        [3, 4, 5],\n",
       "        [6, 7, 8]])"
      ]
     },
     "execution_count": 15,
     "metadata": {},
     "output_type": "execute_result"
    }
   ],
   "source": [
    "tensor = torch.arange(0, 9).reshape(3, 3)\n",
    "tensor"
   ]
  },
  {
   "cell_type": "markdown",
   "id": "6f0b52f1",
   "metadata": {},
   "source": [
    "### Matrix Multiplication"
   ]
  },
  {
   "cell_type": "code",
   "execution_count": 16,
   "id": "1589b319",
   "metadata": {
    "ExecuteTime": {
     "end_time": "2022-03-12T01:56:46.161234Z",
     "start_time": "2022-03-12T01:56:46.141661Z"
    }
   },
   "outputs": [
    {
     "data": {
      "text/plain": [
       "tensor([[ 15,  18,  21],\n",
       "        [ 42,  54,  66],\n",
       "        [ 69,  90, 111]])"
      ]
     },
     "execution_count": 16,
     "metadata": {},
     "output_type": "execute_result"
    }
   ],
   "source": [
    "mat_mul_tensor = tensor @ tensor\n",
    "mat_mul_tensor"
   ]
  },
  {
   "cell_type": "code",
   "execution_count": 17,
   "id": "66e8f0f2",
   "metadata": {
    "ExecuteTime": {
     "end_time": "2022-03-12T01:56:46.180907Z",
     "start_time": "2022-03-12T01:56:46.161757Z"
    }
   },
   "outputs": [
    {
     "data": {
      "text/plain": [
       "tensor([[ 15,  18,  21],\n",
       "        [ 42,  54,  66],\n",
       "        [ 69,  90, 111]])"
      ]
     },
     "execution_count": 17,
     "metadata": {},
     "output_type": "execute_result"
    }
   ],
   "source": [
    "mat_mul_tensor = tensor.matmul(tensor)\n",
    "mat_mul_tensor"
   ]
  },
  {
   "cell_type": "markdown",
   "id": "f21779f8",
   "metadata": {},
   "source": [
    "### Element-Wise Product"
   ]
  },
  {
   "cell_type": "code",
   "execution_count": 18,
   "id": "c7327e54",
   "metadata": {
    "ExecuteTime": {
     "end_time": "2022-03-12T01:56:46.200958Z",
     "start_time": "2022-03-12T01:56:46.181943Z"
    }
   },
   "outputs": [
    {
     "data": {
      "text/plain": [
       "tensor([[ 0,  1,  4],\n",
       "        [ 9, 16, 25],\n",
       "        [36, 49, 64]])"
      ]
     },
     "execution_count": 18,
     "metadata": {},
     "output_type": "execute_result"
    }
   ],
   "source": [
    "elemwise_prod = tensor * tensor\n",
    "elemwise_prod"
   ]
  },
  {
   "cell_type": "code",
   "execution_count": 19,
   "id": "4573ec46",
   "metadata": {
    "ExecuteTime": {
     "end_time": "2022-03-12T01:56:46.221229Z",
     "start_time": "2022-03-12T01:56:46.201989Z"
    }
   },
   "outputs": [
    {
     "data": {
      "text/plain": [
       "tensor([[ 0,  1,  4],\n",
       "        [ 9, 16, 25],\n",
       "        [36, 49, 64]])"
      ]
     },
     "execution_count": 19,
     "metadata": {},
     "output_type": "execute_result"
    }
   ],
   "source": [
    "elemwise_prod = tensor.mul(tensor)\n",
    "elemwise_prod"
   ]
  },
  {
   "cell_type": "markdown",
   "id": "a4ed48f3",
   "metadata": {},
   "source": [
    "### Aggregation"
   ]
  },
  {
   "cell_type": "code",
   "execution_count": 20,
   "id": "8f68d1ad",
   "metadata": {
    "ExecuteTime": {
     "end_time": "2022-03-12T01:56:46.241030Z",
     "start_time": "2022-03-12T01:56:46.221763Z"
    }
   },
   "outputs": [
    {
     "name": "stdout",
     "output_type": "stream",
     "text": [
      "Min: 0\n",
      "Max: 8\n",
      "Sum: 36\n",
      "Mean: 4.0\n",
      "Median: 4\n"
     ]
    }
   ],
   "source": [
    "min_value = tensor.min()\n",
    "max_value = tensor.max()\n",
    "sum_value = tensor.sum()\n",
    "mean_value = tensor.to(dtype=torch.float).mean()\n",
    "median_value = tensor.median()\n",
    "\n",
    "print(f\"Min: {min_value}\")\n",
    "print(f\"Max: {max_value}\")\n",
    "print(f\"Sum: {sum_value}\")\n",
    "print(f\"Mean: {mean_value}\")\n",
    "print(f\"Median: {median_value}\")"
   ]
  },
  {
   "cell_type": "code",
   "execution_count": 21,
   "id": "197ace16",
   "metadata": {
    "ExecuteTime": {
     "end_time": "2022-03-12T01:56:48.391027Z",
     "start_time": "2022-03-12T01:56:46.241585Z"
    }
   },
   "outputs": [
    {
     "name": "stdout",
     "output_type": "stream",
     "text": [
      "Add: tensor([[ 5,  6,  7],\n",
      "        [ 8,  9, 10],\n",
      "        [11, 12, 13]])\n",
      "Sub: tensor([[0, 1, 2],\n",
      "        [3, 4, 5],\n",
      "        [6, 7, 8]])\n",
      "Mul: tensor([[ 0,  5, 10],\n",
      "        [15, 20, 25],\n",
      "        [30, 35, 40]])\n",
      "Div: tensor([[0., 1., 2.],\n",
      "        [3., 4., 5.],\n",
      "        [6., 7., 8.]], device='cuda:0')\n",
      "Rem: tensor([[0., 0., 0.],\n",
      "        [0., 0., 0.],\n",
      "        [0., 0., 0.]])\n"
     ]
    }
   ],
   "source": [
    "print(f\"Add: {tensor.add_(5)}\")\n",
    "print(f\"Sub: {tensor.sub_(5)}\")\n",
    "print(f\"Mul: {tensor.mul_(5)}\")\n",
    "print(f\"Div: {tensor.to(dtype=torch.float, device=device).div_(5)}\")\n",
    "print(f\"Rem: {tensor.to(dtype=torch.float).remainder_(5)}\")"
   ]
  },
  {
   "cell_type": "markdown",
   "id": "d438901a",
   "metadata": {},
   "source": [
    "## Tensor to Numpy"
   ]
  },
  {
   "cell_type": "code",
   "execution_count": 22,
   "id": "b12a67d5",
   "metadata": {
    "ExecuteTime": {
     "end_time": "2022-03-12T01:56:48.409020Z",
     "start_time": "2022-03-12T01:56:48.392963Z"
    }
   },
   "outputs": [
    {
     "data": {
      "text/plain": [
       "torch.Tensor"
      ]
     },
     "execution_count": 22,
     "metadata": {},
     "output_type": "execute_result"
    }
   ],
   "source": [
    "tensor = torch.ones(3, 3)\n",
    "type(tensor)"
   ]
  },
  {
   "cell_type": "code",
   "execution_count": 23,
   "id": "2e24fda5",
   "metadata": {
    "ExecuteTime": {
     "end_time": "2022-03-12T01:56:48.426200Z",
     "start_time": "2022-03-12T01:56:48.412061Z"
    }
   },
   "outputs": [
    {
     "data": {
      "text/plain": [
       "numpy.ndarray"
      ]
     },
     "execution_count": 23,
     "metadata": {},
     "output_type": "execute_result"
    }
   ],
   "source": [
    "tensor_to_numpy = tensor.numpy()\n",
    "type(tensor_to_numpy)"
   ]
  },
  {
   "cell_type": "markdown",
   "id": "4e9d25e5",
   "metadata": {},
   "source": [
    "## Numpy to Tensor"
   ]
  },
  {
   "cell_type": "code",
   "execution_count": 24,
   "id": "e1bbe4ad",
   "metadata": {
    "ExecuteTime": {
     "end_time": "2022-03-12T01:56:48.441958Z",
     "start_time": "2022-03-12T01:56:48.426200Z"
    }
   },
   "outputs": [
    {
     "data": {
      "text/plain": [
       "numpy.ndarray"
      ]
     },
     "execution_count": 24,
     "metadata": {},
     "output_type": "execute_result"
    }
   ],
   "source": [
    "numpy = np.ones(5)\n",
    "type(numpy)"
   ]
  },
  {
   "cell_type": "code",
   "execution_count": 25,
   "id": "6b3e6f90",
   "metadata": {
    "ExecuteTime": {
     "end_time": "2022-03-12T01:56:48.461122Z",
     "start_time": "2022-03-12T01:56:48.441958Z"
    }
   },
   "outputs": [
    {
     "data": {
      "text/plain": [
       "torch.Tensor"
      ]
     },
     "execution_count": 25,
     "metadata": {},
     "output_type": "execute_result"
    }
   ],
   "source": [
    "numpy_to_tensor = torch.from_numpy(numpy)\n",
    "type(numpy_to_tensor)"
   ]
  }
 ],
 "metadata": {
  "kernelspec": {
   "display_name": "Python 3",
   "language": "python",
   "name": "python3"
  },
  "language_info": {
   "codemirror_mode": {
    "name": "ipython",
    "version": 3
   },
   "file_extension": ".py",
   "mimetype": "text/x-python",
   "name": "python",
   "nbconvert_exporter": "python",
   "pygments_lexer": "ipython3",
   "version": "3.8.8"
  },
  "nbTranslate": {
   "displayLangs": [
    "*"
   ],
   "hotkey": "alt-t",
   "langInMainMenu": true,
   "sourceLang": "en",
   "targetLang": "fr",
   "useGoogleTranslate": true
  },
  "toc": {
   "base_numbering": 1,
   "nav_menu": {},
   "number_sections": true,
   "sideBar": true,
   "skip_h1_title": false,
   "title_cell": "Table of Contents",
   "title_sidebar": "Contents",
   "toc_cell": false,
   "toc_position": {},
   "toc_section_display": true,
   "toc_window_display": false
  }
 },
 "nbformat": 4,
 "nbformat_minor": 5
}
