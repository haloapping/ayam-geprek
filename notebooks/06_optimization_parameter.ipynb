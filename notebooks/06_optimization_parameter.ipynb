{
 "cells": [
  {
   "cell_type": "markdown",
   "id": "bb6555d0",
   "metadata": {},
   "source": [
    "# Hyperparameter\n",
    "\n",
    "Hyperparameter adalah parameter yag dapat disesuaikan untuk mengontrol proses pemgoptimalan model. Hyperparameter pada saat proses iterasi tidak akan diupdate atau sifatnya tetap.\n",
    "- Epoch: proses berulang selama proses pelatihan, dimana 1 epoch = keseluruhan dataset telah dilatih.\n",
    "- Batch jumlah sampel yang digunakan pada proses iterasi.\n",
    "- Learning Rate: kecepatan model dalam belajar. Nilai learning rate yang kecil menyebabkan proses belajar model menjadi lambat dan sebaliknya jika learning rate besar, maka proses belajar model menjadi cepat."
   ]
  },
  {
   "cell_type": "markdown",
   "id": "4feb5609",
   "metadata": {},
   "source": [
    "# Loss Function\n",
    "\n",
    "Digunakan untuk mengukur ketidakmiripan hasil dari prediksi model dengan nilai aktual."
   ]
  },
  {
   "cell_type": "code",
   "execution_count": 1,
   "id": "50ae4f45",
   "metadata": {
    "ExecuteTime": {
     "end_time": "2022-03-13T09:09:16.786334Z",
     "start_time": "2022-03-13T09:09:16.732091Z"
    }
   },
   "outputs": [
    {
     "name": "stdout",
     "output_type": "stream",
     "text": [
      "Loss: 0.40000000000000036\n"
     ]
    }
   ],
   "source": [
    "X_actual = 10\n",
    "X_pred = 9.6\n",
    "\n",
    "loss = X_actual - X_pred\n",
    "print(f\"Loss: {loss}\")"
   ]
  },
  {
   "cell_type": "markdown",
   "id": "067f5aac",
   "metadata": {},
   "source": [
    "Pada contoh diatas selisih antara *X_actual* dan *X_pred* disebut *loss* atau *error*. Semakin besar kerugiannya (*loss*) maka performa model masih kurang baik dan sebaliknya jika semakin kecil maka performa model semakin baik."
   ]
  },
  {
   "cell_type": "markdown",
   "id": "fb3f75bc",
   "metadata": {},
   "source": [
    "Pada Pytroch terdapat beberapa fungsi loss, berikut tautannya https://pytorch.org/docs/stable/nn.html#loss-functions"
   ]
  },
  {
   "cell_type": "code",
   "execution_count": 5,
   "id": "1fc0e02d",
   "metadata": {
    "ExecuteTime": {
     "end_time": "2022-03-13T09:12:47.399354Z",
     "start_time": "2022-03-13T09:12:47.378375Z"
    }
   },
   "outputs": [
    {
     "name": "stdout",
     "output_type": "stream",
     "text": [
      "MSE Loss: 1.1729463338851929\n"
     ]
    }
   ],
   "source": [
    "import torch\n",
    "from torch import nn\n",
    "\n",
    "torch.manual_seed(42)\n",
    "y_pred = torch.randn(size=(10, ))\n",
    "y_actual = torch.randn(size=(10, ))\n",
    "\n",
    "mse_loss = nn.MSELoss()\n",
    "print(f\"MSE Loss: {mse_loss(y_pred, y_actual).item()}\")"
   ]
  },
  {
   "cell_type": "markdown",
   "id": "98463974",
   "metadata": {},
   "source": [
    "# Optimizer\n",
    "\n",
    "- Digunakan untuk mengoptimalkan nilai-nilai dari parameter agar nilai kerugian (*loss*) semakin berkurang.\n",
    "- Menggunakan Gradient Descent untuk melakukan optimasi parameter.\n",
    "- Pada Pytroch htersedia beberapa optimizer yang dapat dilihat pada tautan https://pytorch.org/docs/stable/optim.html"
   ]
  },
  {
   "cell_type": "code",
   "execution_count": 3,
   "id": "82831ede",
   "metadata": {
    "ExecuteTime": {
     "end_time": "2022-03-13T09:09:19.472410Z",
     "start_time": "2022-03-13T09:09:19.406458Z"
    }
   },
   "outputs": [
    {
     "data": {
      "text/plain": [
       "SGD (\n",
       "Parameter Group 0\n",
       "    dampening: 0\n",
       "    lr: 0.1\n",
       "    maximize: False\n",
       "    momentum: 0\n",
       "    nesterov: False\n",
       "    weight_decay: 0\n",
       ")"
      ]
     },
     "execution_count": 3,
     "metadata": {},
     "output_type": "execute_result"
    }
   ],
   "source": [
    "from torch import nn, optim\n",
    "\n",
    "# Build Model\n",
    "model = nn.Sequential(\n",
    "            # layer 1 (4 neurons) to layer 2 (2 neurons) with ReLU\n",
    "            nn.Linear(4, 2),\n",
    "            nn.ReLU(),\n",
    "            \n",
    "            # layer 2 (2 neurons) to layer 3 (1 neurons) with Sigmoid\n",
    "            nn.Linear(2, 1),\n",
    "            nn.Sigmoid(),\n",
    "        )\n",
    "\n",
    "optimizer = optim.SGD(model.parameters(), lr=0.1)\n",
    "optimizer"
   ]
  },
  {
   "cell_type": "markdown",
   "id": "b4515015",
   "metadata": {},
   "source": [
    "# Full Code"
   ]
  },
  {
   "cell_type": "code",
   "execution_count": 4,
   "id": "b9134830",
   "metadata": {
    "ExecuteTime": {
     "end_time": "2022-03-13T09:09:21.151403Z",
     "start_time": "2022-03-13T09:09:19.479663Z"
    }
   },
   "outputs": [
    {
     "name": "stdout",
     "output_type": "stream",
     "text": [
      "Epoch 1\n",
      "batch 1: [  0/ 50] | r2-score: -0.333630 | loss: 1.128540\n",
      "batch 2: [ 10/ 50] | r2-score: -1.477357 | loss: 0.175021\n",
      "batch 3: [ 20/ 50] | r2-score: -0.021762 | loss: 1.203532\n",
      "batch 4: [ 30/ 50] | r2-score: -0.058999 | loss: 0.810576\n",
      "batch 5: [ 40/ 50] | r2-score: -0.008366 | loss: 0.756777\n",
      "R2 score  : -0.38002262115478513\n",
      "RMSE loss : 0.9027120804519996\n",
      "------------------------------------------------------------\n",
      "\n",
      "Epoch 2\n",
      "batch 1: [  0/ 50] | r2-score: -0.043790 | loss: 0.516787\n",
      "batch 2: [ 10/ 50] | r2-score: -0.146816 | loss: 1.157540\n",
      "batch 3: [ 20/ 50] | r2-score: -0.018677 | loss: 0.704841\n",
      "batch 4: [ 30/ 50] | r2-score: -0.005922 | loss: 1.137529\n",
      "batch 5: [ 40/ 50] | r2-score: -0.618832 | loss: 0.409459\n",
      "R2 score  : -0.16680734157562255\n",
      "RMSE loss : 0.8861327533078694\n",
      "------------------------------------------------------------\n",
      "\n",
      "Epoch 3\n",
      "batch 1: [  0/ 50] | r2-score: 0.068780 | loss: 1.151492\n",
      "batch 2: [ 10/ 50] | r2-score: -0.128021 | loss: 0.617208\n",
      "batch 3: [ 20/ 50] | r2-score: -0.244651 | loss: 0.673326\n",
      "batch 4: [ 30/ 50] | r2-score: -0.454628 | loss: 1.087751\n",
      "batch 5: [ 40/ 50] | r2-score: 0.111795 | loss: 0.318620\n",
      "R2 score  : -0.12934526205062866\n",
      "RMSE loss : 0.8773138447095133\n",
      "------------------------------------------------------------\n",
      "\n",
      "Epoch 4\n",
      "batch 1: [  0/ 50] | r2-score: 0.018944 | loss: 0.712169\n",
      "batch 2: [ 10/ 50] | r2-score: 0.038730 | loss: 0.537955\n",
      "batch 3: [ 20/ 50] | r2-score: 0.068534 | loss: 0.891191\n",
      "batch 4: [ 30/ 50] | r2-score: 0.123234 | loss: 0.243318\n",
      "batch 5: [ 40/ 50] | r2-score: -0.100621 | loss: 1.360221\n",
      "R2 score  : 0.029764115810394287\n",
      "RMSE loss : 0.8654309964283089\n",
      "------------------------------------------------------------\n",
      "\n",
      "Epoch 5\n",
      "batch 1: [  0/ 50] | r2-score: 0.025799 | loss: 0.732277\n",
      "batch 2: [ 10/ 50] | r2-score: 0.027424 | loss: 0.848482\n",
      "batch 3: [ 20/ 50] | r2-score: 0.093171 | loss: 0.635800\n",
      "batch 4: [ 30/ 50] | r2-score: -0.131714 | loss: 0.912888\n",
      "batch 5: [ 40/ 50] | r2-score: -0.043801 | loss: 0.570886\n",
      "R2 score  : -0.005824148654937744\n",
      "RMSE loss : 0.8602712084930951\n",
      "------------------------------------------------------------\n",
      "\n",
      "Done!\n"
     ]
    }
   ],
   "source": [
    "# Import modules\n",
    "import torch\n",
    "\n",
    "from torch import nn, optim\n",
    "from torch.utils.data import DataLoader, TensorDataset\n",
    "from torchmetrics.functional import r2_score\n",
    "\n",
    "# Sample Dataset\n",
    "torch.manual_seed(42)\n",
    "X = torch.randn(size=(50, 4))\n",
    "y = torch.randn(size=(50, 1))\n",
    "\n",
    "# Tensor Dataset\n",
    "tensor_dataset = TensorDataset(X, y)\n",
    "\n",
    "# Dataloader\n",
    "dataloader = DataLoader(tensor_dataset, batch_size=10, shuffle=True)\n",
    "\n",
    "# Loss Function\n",
    "mse_loss = nn.MSELoss()\n",
    "\n",
    "# Optimizer\n",
    "sgd_optimizer = optim.SGD(model.parameters(), lr=1)\n",
    "\n",
    "# Loop Function\n",
    "def loop_fn(dataloader, model, loss_fn, optimizer):\n",
    "    size = len(dataloader.dataset)\n",
    "    loss_batches = []\n",
    "    r2_score_batches = []\n",
    "    \n",
    "    for batch, (X, y) in enumerate(dataloader):\n",
    "        # Forward Propagation\n",
    "        pred = model(X)\n",
    "        loss = loss_fn(pred, y)\n",
    "        r_square = r2_score(pred, y)\n",
    "        \n",
    "        # Backpropagation\n",
    "        optimizer.zero_grad()\n",
    "        loss.backward()\n",
    "        optimizer.step()\n",
    "        \n",
    "        # Calculate loss each batch\n",
    "        loss = loss.item()\n",
    "        loss_batches.append(loss)\n",
    "        \n",
    "        # Calculate r-square each batch\n",
    "        r_square = r_square.item()\n",
    "        r2_score_batches.append(r_square)\n",
    "        \n",
    "        current_batch = batch * len(X)\n",
    "        \n",
    "        # Show Log\n",
    "        print(f\"batch {batch + 1}: [{current_batch:>3d}/{size:>3d}] | r2-score: {r_square:>8f} | loss: {loss:>7f}\")\n",
    "    print(f\"R2 score  : {sum(r2_score_batches) / len(r2_score_batches)}\")\n",
    "    print(f\"RMSE loss : {(sum(loss_batches) / len(loss_batches))**0.5}\")\n",
    "    \n",
    "# Run Loop Function\n",
    "epochs = 5\n",
    "\n",
    "for epoch in range(epochs):\n",
    "    print(f\"Epoch {epoch + 1}\")\n",
    "    loop_fn(dataloader, model, mse_loss, sgd_optimizer)\n",
    "    print(\"-\" * 60, end=\"\\n\\n\")\n",
    "print(\"Done!\")"
   ]
  },
  {
   "cell_type": "code",
   "execution_count": null,
   "id": "22206e34",
   "metadata": {},
   "outputs": [],
   "source": []
  }
 ],
 "metadata": {
  "kernelspec": {
   "display_name": "Python 3 (ipykernel)",
   "language": "python",
   "name": "python3"
  },
  "language_info": {
   "codemirror_mode": {
    "name": "ipython",
    "version": 3
   },
   "file_extension": ".py",
   "mimetype": "text/x-python",
   "name": "python",
   "nbconvert_exporter": "python",
   "pygments_lexer": "ipython3",
   "version": "3.9.7"
  },
  "nbTranslate": {
   "displayLangs": [
    "*"
   ],
   "hotkey": "alt-t",
   "langInMainMenu": true,
   "sourceLang": "en",
   "targetLang": "fr",
   "useGoogleTranslate": true
  },
  "toc": {
   "base_numbering": 1,
   "nav_menu": {},
   "number_sections": true,
   "sideBar": true,
   "skip_h1_title": false,
   "title_cell": "Table of Contents",
   "title_sidebar": "Contents",
   "toc_cell": false,
   "toc_position": {},
   "toc_section_display": true,
   "toc_window_display": false
  }
 },
 "nbformat": 4,
 "nbformat_minor": 5
}
