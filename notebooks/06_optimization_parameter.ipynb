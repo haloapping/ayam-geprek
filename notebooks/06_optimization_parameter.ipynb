{
 "cells": [
  {
   "cell_type": "markdown",
   "id": "bb6555d0",
   "metadata": {},
   "source": [
    "# Hyperparameter\n",
    "\n",
    "Hyperparameter adalah parameter yag dapat disesuaikan untuk mengontrol proses pemgoptimalan model. Hyperparameter pada saat proses iterasi tidak akan diupdate atau sifatnya tetap.\n",
    "- Epoch: proses berulang selama proses pelatihan, dimana 1 epoch = keseluruhan dataset telah dilatih.\n",
    "- Batch jumlah sampel yang digunakan pada proses training.\n",
    "- Learning Rate: kecepatan model dalam belajar. Nilai learning rate yang kecil menyebabkan proses belajar model menjadi lambat dan sebaliknya jika learning rate besar, maka proses belajar model menjadi cepat."
   ]
  },
  {
   "cell_type": "markdown",
   "id": "4feb5609",
   "metadata": {},
   "source": [
    "# Loss Function\n",
    "\n",
    "Digunakan untuk mengukur ketidakmiripan hasil dari prediksi model dengan nilai aktual."
   ]
  },
  {
   "cell_type": "code",
   "execution_count": 1,
   "id": "50ae4f45",
   "metadata": {
    "ExecuteTime": {
     "end_time": "2022-03-14T02:18:26.496320Z",
     "start_time": "2022-03-14T02:18:26.471593Z"
    }
   },
   "outputs": [
    {
     "name": "stdout",
     "output_type": "stream",
     "text": [
      "Loss: 0.40000000000000036\n"
     ]
    }
   ],
   "source": [
    "X_actual = 10\n",
    "X_pred = 9.6\n",
    "\n",
    "loss = X_actual - X_pred\n",
    "print(f\"Loss: {loss}\")"
   ]
  },
  {
   "cell_type": "markdown",
   "id": "067f5aac",
   "metadata": {},
   "source": [
    "Pada contoh diatas selisih antara *X_actual* dan *X_pred* disebut *loss* atau *error*. Semakin besar kerugiannya (*loss*) maka performa model masih kurang baik dan sebaliknya jika semakin kecil maka performa model semakin baik."
   ]
  },
  {
   "cell_type": "markdown",
   "id": "fb3f75bc",
   "metadata": {},
   "source": [
    "Pada Pytroch terdapat beberapa fungsi loss, berikut tautannya https://pytorch.org/docs/stable/nn.html#loss-functions"
   ]
  },
  {
   "cell_type": "code",
   "execution_count": 2,
   "id": "1fc0e02d",
   "metadata": {
    "ExecuteTime": {
     "end_time": "2022-03-14T02:18:27.376455Z",
     "start_time": "2022-03-14T02:18:26.498333Z"
    }
   },
   "outputs": [
    {
     "name": "stdout",
     "output_type": "stream",
     "text": [
      "MSE Loss: 1.1729463338851929\n"
     ]
    },
    {
     "name": "stderr",
     "output_type": "stream",
     "text": [
      "C:\\Users\\62821\\.conda\\envs\\dl_with_me\\lib\\site-packages\\tqdm\\auto.py:22: TqdmWarning: IProgress not found. Please update jupyter and ipywidgets. See https://ipywidgets.readthedocs.io/en/stable/user_install.html\n",
      "  from .autonotebook import tqdm as notebook_tqdm\n"
     ]
    }
   ],
   "source": [
    "import torch\n",
    "from torch import nn\n",
    "\n",
    "torch.manual_seed(42)\n",
    "y_pred = torch.randn(size=(10, ))\n",
    "y_actual = torch.randn(size=(10, ))\n",
    "\n",
    "mse_loss = nn.MSELoss()\n",
    "print(f\"MSE Loss: {mse_loss(y_pred, y_actual).item()}\")"
   ]
  },
  {
   "cell_type": "markdown",
   "id": "98463974",
   "metadata": {},
   "source": [
    "# Optimizer\n",
    "\n",
    "- Digunakan untuk mengoptimalkan nilai-nilai dari parameter agar nilai kerugian (*loss*) semakin berkurang.\n",
    "- Menggunakan Gradient Descent untuk melakukan optimasi parameter.\n",
    "- Pada Pytroch htersedia beberapa optimizer yang dapat dilihat pada tautan https://pytorch.org/docs/stable/optim.html"
   ]
  },
  {
   "cell_type": "code",
   "execution_count": 3,
   "id": "82831ede",
   "metadata": {
    "ExecuteTime": {
     "end_time": "2022-03-14T02:18:27.396490Z",
     "start_time": "2022-03-14T02:18:27.376975Z"
    }
   },
   "outputs": [
    {
     "data": {
      "text/plain": [
       "SGD (\n",
       "Parameter Group 0\n",
       "    dampening: 0\n",
       "    lr: 0.1\n",
       "    maximize: False\n",
       "    momentum: 0\n",
       "    nesterov: False\n",
       "    weight_decay: 0\n",
       ")"
      ]
     },
     "execution_count": 3,
     "metadata": {},
     "output_type": "execute_result"
    }
   ],
   "source": [
    "from torch import nn, optim\n",
    "\n",
    "# Build Model\n",
    "model = nn.Sequential(\n",
    "            # layer 1 (4 neurons) to layer 2 (2 neurons) with ReLU\n",
    "            nn.Linear(4, 2),\n",
    "            nn.ReLU(),\n",
    "            \n",
    "            # layer 2 (2 neurons) to layer 3 (1 neurons) with Sigmoid\n",
    "            nn.Linear(2, 1),\n",
    "            nn.Sigmoid(),\n",
    "        )\n",
    "\n",
    "optimizer = optim.SGD(model.parameters(), lr=0.1)\n",
    "optimizer"
   ]
  }
 ],
 "metadata": {
  "kernelspec": {
   "display_name": "Python 3 (ipykernel)",
   "language": "python",
   "name": "python3"
  },
  "language_info": {
   "codemirror_mode": {
    "name": "ipython",
    "version": 3
   },
   "file_extension": ".py",
   "mimetype": "text/x-python",
   "name": "python",
   "nbconvert_exporter": "python",
   "pygments_lexer": "ipython3",
   "version": "3.9.7"
  },
  "nbTranslate": {
   "displayLangs": [
    "*"
   ],
   "hotkey": "alt-t",
   "langInMainMenu": true,
   "sourceLang": "en",
   "targetLang": "fr",
   "useGoogleTranslate": true
  },
  "toc": {
   "base_numbering": 1,
   "nav_menu": {},
   "number_sections": true,
   "sideBar": true,
   "skip_h1_title": false,
   "title_cell": "Table of Contents",
   "title_sidebar": "Contents",
   "toc_cell": false,
   "toc_position": {},
   "toc_section_display": true,
   "toc_window_display": false
  }
 },
 "nbformat": 4,
 "nbformat_minor": 5
}
