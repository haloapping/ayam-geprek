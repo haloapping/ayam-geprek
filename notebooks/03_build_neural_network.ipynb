{
 "cells": [
  {
   "cell_type": "markdown",
   "id": "614dc065",
   "metadata": {},
   "source": [
    "# Import Modules\n",
    "\n",
    "- Untuk membuat neural network pada pytorch dapat dilakukan dengan mengakses modul nn pada torch.\n",
    "- Modul nn berisi sekumpulan layer-layer pada neural network."
   ]
  },
  {
   "cell_type": "code",
   "execution_count": 1,
   "id": "011ddb2c",
   "metadata": {
    "ExecuteTime": {
     "end_time": "2022-03-12T05:51:40.896411Z",
     "start_time": "2022-03-12T05:51:38.109925Z"
    }
   },
   "outputs": [],
   "source": [
    "from torch import nn"
   ]
  },
  {
   "cell_type": "markdown",
   "id": "5d19d82a",
   "metadata": {
    "ExecuteTime": {
     "end_time": "2022-03-12T03:45:46.968425Z",
     "start_time": "2022-03-12T03:45:46.949876Z"
    }
   },
   "source": [
    "# Build Simple Neural Network\n",
    "<br>\n",
    "<img src=\"../images/nn-architecture.png\" width=\"500\">"
   ]
  },
  {
   "cell_type": "markdown",
   "id": "66f6d175",
   "metadata": {
    "ExecuteTime": {
     "end_time": "2022-03-12T03:46:50.469648Z",
     "start_time": "2022-03-12T03:46:50.451230Z"
    }
   },
   "source": [
    "## Without Class"
   ]
  },
  {
   "cell_type": "code",
   "execution_count": 2,
   "id": "925b7007",
   "metadata": {
    "ExecuteTime": {
     "end_time": "2022-03-12T05:51:40.926695Z",
     "start_time": "2022-03-12T05:51:40.903505Z"
    }
   },
   "outputs": [],
   "source": [
    "simple_nn_without_class = nn.Sequential(\n",
    "                              # layer 1 to layer 2:  num_neuron in = 8 and num_neuron out = 4\n",
    "                              nn.Linear(in_features=8, out_features=4),\n",
    "                              nn.Sigmoid(),\n",
    "\n",
    "                              # layer 2 to layer 3: num_neuron in = 4 and num_neuron out = 2\n",
    "                              nn.Linear(in_features=4, out_features=2), \n",
    "                              nn.Sigmoid(),\n",
    "\n",
    "                              # layer 3 to layer 4: num_neuron in = 2 and num_neuron out = 1\n",
    "                              nn.Linear(in_features=2, out_features=1),\n",
    "                              nn.Sigmoid()\n",
    "                         )"
   ]
  },
  {
   "cell_type": "code",
   "execution_count": 3,
   "id": "9850937c",
   "metadata": {
    "ExecuteTime": {
     "end_time": "2022-03-12T05:51:41.006403Z",
     "start_time": "2022-03-12T05:51:40.936067Z"
    }
   },
   "outputs": [
    {
     "data": {
      "text/plain": [
       "Sequential(\n",
       "  (0): Linear(in_features=8, out_features=4, bias=True)\n",
       "  (1): Sigmoid()\n",
       "  (2): Linear(in_features=4, out_features=2, bias=True)\n",
       "  (3): Sigmoid()\n",
       "  (4): Linear(in_features=2, out_features=1, bias=True)\n",
       "  (5): Sigmoid()\n",
       ")"
      ]
     },
     "execution_count": 3,
     "metadata": {},
     "output_type": "execute_result"
    }
   ],
   "source": [
    "simple_nn_without_class"
   ]
  },
  {
   "cell_type": "markdown",
   "id": "c249426c",
   "metadata": {},
   "source": [
    "## With Class"
   ]
  },
  {
   "cell_type": "code",
   "execution_count": 4,
   "id": "b0972932",
   "metadata": {
    "ExecuteTime": {
     "end_time": "2022-03-12T05:51:41.038191Z",
     "start_time": "2022-03-12T05:51:41.013406Z"
    }
   },
   "outputs": [],
   "source": [
    "class SimpleNN(nn.Module):\n",
    "    def __init__(self):\n",
    "        super(SimpleNN, self).__init__()\n",
    "        self.linear_sigmoid_stack = nn.Sequential(\n",
    "            # layer 1 to layer 2:  num_neuron in = 8 and num_neuron out = 4\n",
    "            nn.Linear(in_features=8, out_features=4),\n",
    "            nn.Sigmoid(),\n",
    "\n",
    "            # layer 2 to layer 3: num_neuron in = 4 and num_neuron out = 2\n",
    "            nn.Linear(in_features=4, out_features=2), \n",
    "            nn.Sigmoid(),\n",
    "\n",
    "            # layer 3 to layer 4: num_neuron in = 2 and num_neuron out = 1\n",
    "            nn.Linear(in_features=2, out_features=1),\n",
    "            nn.Sigmoid()\n",
    "        )\n",
    "    \n",
    "simple_nn_with_class = SimpleNN()"
   ]
  },
  {
   "cell_type": "code",
   "execution_count": 5,
   "id": "048a7992",
   "metadata": {
    "ExecuteTime": {
     "end_time": "2022-03-12T05:51:41.068905Z",
     "start_time": "2022-03-12T05:51:41.045740Z"
    }
   },
   "outputs": [
    {
     "data": {
      "text/plain": [
       "SimpleNN(\n",
       "  (linear_sigmoid_stack): Sequential(\n",
       "    (0): Linear(in_features=8, out_features=4, bias=True)\n",
       "    (1): Sigmoid()\n",
       "    (2): Linear(in_features=4, out_features=2, bias=True)\n",
       "    (3): Sigmoid()\n",
       "    (4): Linear(in_features=2, out_features=1, bias=True)\n",
       "    (5): Sigmoid()\n",
       "  )\n",
       ")"
      ]
     },
     "execution_count": 5,
     "metadata": {},
     "output_type": "execute_result"
    }
   ],
   "source": [
    "simple_nn_with_class"
   ]
  },
  {
   "cell_type": "code",
   "execution_count": null,
   "id": "b94b7318",
   "metadata": {},
   "outputs": [],
   "source": []
  }
 ],
 "metadata": {
  "kernelspec": {
   "display_name": "Python 3",
   "language": "python",
   "name": "python3"
  },
  "language_info": {
   "codemirror_mode": {
    "name": "ipython",
    "version": 3
   },
   "file_extension": ".py",
   "mimetype": "text/x-python",
   "name": "python",
   "nbconvert_exporter": "python",
   "pygments_lexer": "ipython3",
   "version": "3.8.8"
  },
  "nbTranslate": {
   "displayLangs": [
    "*"
   ],
   "hotkey": "alt-t",
   "langInMainMenu": true,
   "sourceLang": "en",
   "targetLang": "fr",
   "useGoogleTranslate": true
  },
  "toc": {
   "base_numbering": 1,
   "nav_menu": {},
   "number_sections": true,
   "sideBar": true,
   "skip_h1_title": false,
   "title_cell": "Table of Contents",
   "title_sidebar": "Contents",
   "toc_cell": false,
   "toc_position": {},
   "toc_section_display": true,
   "toc_window_display": false
  }
 },
 "nbformat": 4,
 "nbformat_minor": 5
}
